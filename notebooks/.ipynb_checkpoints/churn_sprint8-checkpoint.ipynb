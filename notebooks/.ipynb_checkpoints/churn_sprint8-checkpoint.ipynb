{
 "cells": [
  {
   "cell_type": "markdown",
   "id": "a824d9f3",
   "metadata": {},
   "source": [
    "#  Machine Learning: Custom Churn Prediction\n",
    "\n",
    "## Overview\n",
    "\n",
    "Customer retention is a critical challenge for businesses, especially in industries like banking, where acquiring new customers can be more expensive than keeping existing ones. In this project, I built a supervised machine learning model to predict customer churn for Beta Bank using historical data on client behavior and contract termination. The main objective was to maximize the F1 score, which balances precision and recall, making it an ideal metric for imbalanced datasets. Achieving an F1 score of at least 0.59 was required to ensure that the model could effectively identify customers at risk of leaving.\n",
    "\n",
    "In addition to F1, the AUC-ROC metric was also used to evaluate the model’s ability to distinguish between churners and non-churners. By exploring several models and addressing class imbalance, the final model was optimized through hyperparameter tuning to meet and exceed the required performance thresholds."
   ]
  },
  {
   "cell_type": "code",
   "execution_count": 1,
   "id": "a565c444",
   "metadata": {},
   "outputs": [],
   "source": [
    "import pandas as pd\n",
    "import numpy as np\n",
    "import seaborn as sns\n",
    "import matplotlib.pyplot as plt\n",
    "\n",
    "from sklearn.metrics import confusion_matrix, ConfusionMatrixDisplay\n",
    "\n",
    "from sklearn.model_selection import train_test_split\n",
    "\n",
    "from sklearn.linear_model import LogisticRegression\n",
    "from sklearn.utils import resample\n",
    "from sklearn.metrics import make_scorer, f1_score, roc_auc_score, roc_curve, auc\n",
    "\n",
    "from sklearn.model_selection import GridSearchCV\n",
    "from sklearn.tree import DecisionTreeClassifier\n",
    "\n",
    "from sklearn.ensemble import RandomForestClassifier\n",
    "\n",
    "import joblib"
   ]
  },
  {
   "cell_type": "markdown",
   "id": "a218c47e",
   "metadata": {},
   "source": [
    "# Data Loading\n",
    "\n",
    "**Features**\n",
    "\n",
    "- RowNumber — data string index\n",
    "- CustomerId — unique customer identifier\n",
    "- Surname — surname\n",
    "- CreditScore — credit score\n",
    "- Geography — country of residence\n",
    "- Gender — gender\n",
    "- Age — age\n",
    "- Tenure — period of maturation for a customer’s fixed deposit (years)\n",
    "- Balance — account balance\n",
    "- NumOfProducts — number of banking products used by the customer\n",
    "- HasCrCard — customer has a credit card\n",
    "- IsActiveMember — customer’s activeness\n",
    "- EstimatedSalary — estimated salary\n",
    "\n",
    "**Target** \n",
    "- Exited — сustomer has left"
   ]
  },
  {
   "cell_type": "code",
   "execution_count": 2,
   "id": "c7013f01",
   "metadata": {},
   "outputs": [],
   "source": [
    "# Loading the dataset\n",
    "df = pd.read_csv('https://practicum-content.s3.us-west-1.amazonaws.com/datasets/Churn.csv')    "
   ]
  },
  {
   "cell_type": "markdown",
   "id": "625f79bc",
   "metadata": {},
   "source": [
    "#  Inspect the Data\n",
    "Check for missing values and duplicates, and display the dataset shape and the first few rows.\n",
    "\n",
    "\n",
    "\n"
   ]
  },
  {
   "cell_type": "code",
   "execution_count": 3,
   "id": "c3538964",
   "metadata": {
    "scrolled": true
   },
   "outputs": [
    {
     "data": {
      "text/plain": [
       "(10000, 14)"
      ]
     },
     "execution_count": 3,
     "metadata": {},
     "output_type": "execute_result"
    }
   ],
   "source": [
    "df.shape # Dataset size"
   ]
  },
  {
   "cell_type": "code",
   "execution_count": 4,
   "id": "966ac9ce",
   "metadata": {
    "scrolled": true
   },
   "outputs": [
    {
     "data": {
      "text/plain": [
       "RowNumber            0\n",
       "CustomerId           0\n",
       "Surname              0\n",
       "CreditScore          0\n",
       "Geography            0\n",
       "Gender               0\n",
       "Age                  0\n",
       "Tenure             909\n",
       "Balance              0\n",
       "NumOfProducts        0\n",
       "HasCrCard            0\n",
       "IsActiveMember       0\n",
       "EstimatedSalary      0\n",
       "Exited               0\n",
       "dtype: int64"
      ]
     },
     "execution_count": 4,
     "metadata": {},
     "output_type": "execute_result"
    }
   ],
   "source": [
    "df.isnull().sum() # Check for missing values"
   ]
  },
  {
   "cell_type": "code",
   "execution_count": 5,
   "id": "bfae285a",
   "metadata": {
    "scrolled": false
   },
   "outputs": [
    {
     "data": {
      "text/plain": [
       "0"
      ]
     },
     "execution_count": 5,
     "metadata": {},
     "output_type": "execute_result"
    }
   ],
   "source": [
    "df.duplicated().sum()"
   ]
  },
  {
   "cell_type": "code",
   "execution_count": 6,
   "id": "04bfecbb",
   "metadata": {
    "scrolled": false
   },
   "outputs": [
    {
     "name": "stdout",
     "output_type": "stream",
     "text": [
      "<class 'pandas.core.frame.DataFrame'>\n",
      "RangeIndex: 10000 entries, 0 to 9999\n",
      "Data columns (total 14 columns):\n",
      " #   Column           Non-Null Count  Dtype  \n",
      "---  ------           --------------  -----  \n",
      " 0   RowNumber        10000 non-null  int64  \n",
      " 1   CustomerId       10000 non-null  int64  \n",
      " 2   Surname          10000 non-null  object \n",
      " 3   CreditScore      10000 non-null  int64  \n",
      " 4   Geography        10000 non-null  object \n",
      " 5   Gender           10000 non-null  object \n",
      " 6   Age              10000 non-null  int64  \n",
      " 7   Tenure           9091 non-null   float64\n",
      " 8   Balance          10000 non-null  float64\n",
      " 9   NumOfProducts    10000 non-null  int64  \n",
      " 10  HasCrCard        10000 non-null  int64  \n",
      " 11  IsActiveMember   10000 non-null  int64  \n",
      " 12  EstimatedSalary  10000 non-null  float64\n",
      " 13  Exited           10000 non-null  int64  \n",
      "dtypes: float64(3), int64(8), object(3)\n",
      "memory usage: 1.1+ MB\n"
     ]
    }
   ],
   "source": [
    "df.info() # Data types and non-null counts"
   ]
  },
  {
   "cell_type": "code",
   "execution_count": 7,
   "id": "7753341f",
   "metadata": {
    "scrolled": false
   },
   "outputs": [
    {
     "data": {
      "text/html": [
       "<div>\n",
       "<style scoped>\n",
       "    .dataframe tbody tr th:only-of-type {\n",
       "        vertical-align: middle;\n",
       "    }\n",
       "\n",
       "    .dataframe tbody tr th {\n",
       "        vertical-align: top;\n",
       "    }\n",
       "\n",
       "    .dataframe thead th {\n",
       "        text-align: right;\n",
       "    }\n",
       "</style>\n",
       "<table border=\"1\" class=\"dataframe\">\n",
       "  <thead>\n",
       "    <tr style=\"text-align: right;\">\n",
       "      <th></th>\n",
       "      <th>RowNumber</th>\n",
       "      <th>CustomerId</th>\n",
       "      <th>Surname</th>\n",
       "      <th>CreditScore</th>\n",
       "      <th>Geography</th>\n",
       "      <th>Gender</th>\n",
       "      <th>Age</th>\n",
       "      <th>Tenure</th>\n",
       "      <th>Balance</th>\n",
       "      <th>NumOfProducts</th>\n",
       "      <th>HasCrCard</th>\n",
       "      <th>IsActiveMember</th>\n",
       "      <th>EstimatedSalary</th>\n",
       "      <th>Exited</th>\n",
       "    </tr>\n",
       "  </thead>\n",
       "  <tbody>\n",
       "    <tr>\n",
       "      <th>0</th>\n",
       "      <td>1</td>\n",
       "      <td>15634602</td>\n",
       "      <td>Hargrave</td>\n",
       "      <td>619</td>\n",
       "      <td>France</td>\n",
       "      <td>Female</td>\n",
       "      <td>42</td>\n",
       "      <td>2.0</td>\n",
       "      <td>0.00</td>\n",
       "      <td>1</td>\n",
       "      <td>1</td>\n",
       "      <td>1</td>\n",
       "      <td>101348.88</td>\n",
       "      <td>1</td>\n",
       "    </tr>\n",
       "    <tr>\n",
       "      <th>1</th>\n",
       "      <td>2</td>\n",
       "      <td>15647311</td>\n",
       "      <td>Hill</td>\n",
       "      <td>608</td>\n",
       "      <td>Spain</td>\n",
       "      <td>Female</td>\n",
       "      <td>41</td>\n",
       "      <td>1.0</td>\n",
       "      <td>83807.86</td>\n",
       "      <td>1</td>\n",
       "      <td>0</td>\n",
       "      <td>1</td>\n",
       "      <td>112542.58</td>\n",
       "      <td>0</td>\n",
       "    </tr>\n",
       "    <tr>\n",
       "      <th>2</th>\n",
       "      <td>3</td>\n",
       "      <td>15619304</td>\n",
       "      <td>Onio</td>\n",
       "      <td>502</td>\n",
       "      <td>France</td>\n",
       "      <td>Female</td>\n",
       "      <td>42</td>\n",
       "      <td>8.0</td>\n",
       "      <td>159660.80</td>\n",
       "      <td>3</td>\n",
       "      <td>1</td>\n",
       "      <td>0</td>\n",
       "      <td>113931.57</td>\n",
       "      <td>1</td>\n",
       "    </tr>\n",
       "    <tr>\n",
       "      <th>3</th>\n",
       "      <td>4</td>\n",
       "      <td>15701354</td>\n",
       "      <td>Boni</td>\n",
       "      <td>699</td>\n",
       "      <td>France</td>\n",
       "      <td>Female</td>\n",
       "      <td>39</td>\n",
       "      <td>1.0</td>\n",
       "      <td>0.00</td>\n",
       "      <td>2</td>\n",
       "      <td>0</td>\n",
       "      <td>0</td>\n",
       "      <td>93826.63</td>\n",
       "      <td>0</td>\n",
       "    </tr>\n",
       "    <tr>\n",
       "      <th>4</th>\n",
       "      <td>5</td>\n",
       "      <td>15737888</td>\n",
       "      <td>Mitchell</td>\n",
       "      <td>850</td>\n",
       "      <td>Spain</td>\n",
       "      <td>Female</td>\n",
       "      <td>43</td>\n",
       "      <td>2.0</td>\n",
       "      <td>125510.82</td>\n",
       "      <td>1</td>\n",
       "      <td>1</td>\n",
       "      <td>1</td>\n",
       "      <td>79084.10</td>\n",
       "      <td>0</td>\n",
       "    </tr>\n",
       "    <tr>\n",
       "      <th>5</th>\n",
       "      <td>6</td>\n",
       "      <td>15574012</td>\n",
       "      <td>Chu</td>\n",
       "      <td>645</td>\n",
       "      <td>Spain</td>\n",
       "      <td>Male</td>\n",
       "      <td>44</td>\n",
       "      <td>8.0</td>\n",
       "      <td>113755.78</td>\n",
       "      <td>2</td>\n",
       "      <td>1</td>\n",
       "      <td>0</td>\n",
       "      <td>149756.71</td>\n",
       "      <td>1</td>\n",
       "    </tr>\n",
       "    <tr>\n",
       "      <th>6</th>\n",
       "      <td>7</td>\n",
       "      <td>15592531</td>\n",
       "      <td>Bartlett</td>\n",
       "      <td>822</td>\n",
       "      <td>France</td>\n",
       "      <td>Male</td>\n",
       "      <td>50</td>\n",
       "      <td>7.0</td>\n",
       "      <td>0.00</td>\n",
       "      <td>2</td>\n",
       "      <td>1</td>\n",
       "      <td>1</td>\n",
       "      <td>10062.80</td>\n",
       "      <td>0</td>\n",
       "    </tr>\n",
       "    <tr>\n",
       "      <th>7</th>\n",
       "      <td>8</td>\n",
       "      <td>15656148</td>\n",
       "      <td>Obinna</td>\n",
       "      <td>376</td>\n",
       "      <td>Germany</td>\n",
       "      <td>Female</td>\n",
       "      <td>29</td>\n",
       "      <td>4.0</td>\n",
       "      <td>115046.74</td>\n",
       "      <td>4</td>\n",
       "      <td>1</td>\n",
       "      <td>0</td>\n",
       "      <td>119346.88</td>\n",
       "      <td>1</td>\n",
       "    </tr>\n",
       "    <tr>\n",
       "      <th>8</th>\n",
       "      <td>9</td>\n",
       "      <td>15792365</td>\n",
       "      <td>He</td>\n",
       "      <td>501</td>\n",
       "      <td>France</td>\n",
       "      <td>Male</td>\n",
       "      <td>44</td>\n",
       "      <td>4.0</td>\n",
       "      <td>142051.07</td>\n",
       "      <td>2</td>\n",
       "      <td>0</td>\n",
       "      <td>1</td>\n",
       "      <td>74940.50</td>\n",
       "      <td>0</td>\n",
       "    </tr>\n",
       "    <tr>\n",
       "      <th>9</th>\n",
       "      <td>10</td>\n",
       "      <td>15592389</td>\n",
       "      <td>H?</td>\n",
       "      <td>684</td>\n",
       "      <td>France</td>\n",
       "      <td>Male</td>\n",
       "      <td>27</td>\n",
       "      <td>2.0</td>\n",
       "      <td>134603.88</td>\n",
       "      <td>1</td>\n",
       "      <td>1</td>\n",
       "      <td>1</td>\n",
       "      <td>71725.73</td>\n",
       "      <td>0</td>\n",
       "    </tr>\n",
       "  </tbody>\n",
       "</table>\n",
       "</div>"
      ],
      "text/plain": [
       "   RowNumber  CustomerId   Surname  CreditScore Geography  Gender  Age  \\\n",
       "0          1    15634602  Hargrave          619    France  Female   42   \n",
       "1          2    15647311      Hill          608     Spain  Female   41   \n",
       "2          3    15619304      Onio          502    France  Female   42   \n",
       "3          4    15701354      Boni          699    France  Female   39   \n",
       "4          5    15737888  Mitchell          850     Spain  Female   43   \n",
       "5          6    15574012       Chu          645     Spain    Male   44   \n",
       "6          7    15592531  Bartlett          822    France    Male   50   \n",
       "7          8    15656148    Obinna          376   Germany  Female   29   \n",
       "8          9    15792365        He          501    France    Male   44   \n",
       "9         10    15592389        H?          684    France    Male   27   \n",
       "\n",
       "   Tenure    Balance  NumOfProducts  HasCrCard  IsActiveMember  \\\n",
       "0     2.0       0.00              1          1               1   \n",
       "1     1.0   83807.86              1          0               1   \n",
       "2     8.0  159660.80              3          1               0   \n",
       "3     1.0       0.00              2          0               0   \n",
       "4     2.0  125510.82              1          1               1   \n",
       "5     8.0  113755.78              2          1               0   \n",
       "6     7.0       0.00              2          1               1   \n",
       "7     4.0  115046.74              4          1               0   \n",
       "8     4.0  142051.07              2          0               1   \n",
       "9     2.0  134603.88              1          1               1   \n",
       "\n",
       "   EstimatedSalary  Exited  \n",
       "0        101348.88       1  \n",
       "1        112542.58       0  \n",
       "2        113931.57       1  \n",
       "3         93826.63       0  \n",
       "4         79084.10       0  \n",
       "5        149756.71       1  \n",
       "6         10062.80       0  \n",
       "7        119346.88       1  \n",
       "8         74940.50       0  \n",
       "9         71725.73       0  "
      ]
     },
     "execution_count": 7,
     "metadata": {},
     "output_type": "execute_result"
    }
   ],
   "source": [
    "df.head(10) # Preview the data"
   ]
  },
  {
   "cell_type": "markdown",
   "id": "7bfcab35",
   "metadata": {},
   "source": [
    "**Conclusion:**\n",
    "\n",
    "The dataset consists of both numerical and categorical features.\n",
    "\n",
    "We have null values in the `Tenure` column that will need to be investigated and addressed.\n"
   ]
  },
  {
   "cell_type": "markdown",
   "id": "7e2ac19b",
   "metadata": {},
   "source": [
    "# Data Preparation and Feature Processing\n",
    "\n",
    "The dataset consists of both numerical and categorical features. Numerical features were checked for missing values, and imputation was performed where necessary. Categorical features were encoded using one-hot encoding to ensure they are suitable for model input.\n",
    "\n",
    "The following illustrates how I did that:\n"
   ]
  },
  {
   "cell_type": "code",
   "execution_count": 8,
   "id": "e5c91e0d",
   "metadata": {},
   "outputs": [],
   "source": [
    "# Make the column names lowercase\n",
    "df.columns = df.columns.str.lower()"
   ]
  },
  {
   "cell_type": "code",
   "execution_count": 9,
   "id": "d7f98ec1",
   "metadata": {
    "scrolled": false
   },
   "outputs": [
    {
     "name": "stdout",
     "output_type": "stream",
     "text": [
      "<class 'pandas.core.frame.DataFrame'>\n",
      "RangeIndex: 10000 entries, 0 to 9999\n",
      "Data columns (total 14 columns):\n",
      " #   Column           Non-Null Count  Dtype  \n",
      "---  ------           --------------  -----  \n",
      " 0   rownumber        10000 non-null  int64  \n",
      " 1   customerid       10000 non-null  int64  \n",
      " 2   surname          10000 non-null  object \n",
      " 3   creditscore      10000 non-null  int64  \n",
      " 4   geography        10000 non-null  object \n",
      " 5   gender           10000 non-null  object \n",
      " 6   age              10000 non-null  int64  \n",
      " 7   tenure           9091 non-null   float64\n",
      " 8   balance          10000 non-null  float64\n",
      " 9   numofproducts    10000 non-null  int64  \n",
      " 10  hascrcard        10000 non-null  int64  \n",
      " 11  isactivemember   10000 non-null  int64  \n",
      " 12  estimatedsalary  10000 non-null  float64\n",
      " 13  exited           10000 non-null  int64  \n",
      "dtypes: float64(3), int64(8), object(3)\n",
      "memory usage: 1.1+ MB\n"
     ]
    }
   ],
   "source": [
    "df.info()"
   ]
  },
  {
   "cell_type": "code",
   "execution_count": 10,
   "id": "5018436f",
   "metadata": {},
   "outputs": [],
   "source": [
    "# Drop `surname` since it's irrelevant to the model\n",
    "df = df.drop(['surname'], axis=1)"
   ]
  },
  {
   "cell_type": "code",
   "execution_count": 11,
   "id": "88abc098",
   "metadata": {
    "scrolled": true
   },
   "outputs": [
    {
     "data": {
      "text/html": [
       "<div>\n",
       "<style scoped>\n",
       "    .dataframe tbody tr th:only-of-type {\n",
       "        vertical-align: middle;\n",
       "    }\n",
       "\n",
       "    .dataframe tbody tr th {\n",
       "        vertical-align: top;\n",
       "    }\n",
       "\n",
       "    .dataframe thead th {\n",
       "        text-align: right;\n",
       "    }\n",
       "</style>\n",
       "<table border=\"1\" class=\"dataframe\">\n",
       "  <thead>\n",
       "    <tr style=\"text-align: right;\">\n",
       "      <th></th>\n",
       "      <th>rownumber</th>\n",
       "      <th>customerid</th>\n",
       "      <th>creditscore</th>\n",
       "      <th>geography</th>\n",
       "      <th>gender</th>\n",
       "      <th>age</th>\n",
       "      <th>tenure</th>\n",
       "      <th>balance</th>\n",
       "      <th>numofproducts</th>\n",
       "      <th>hascrcard</th>\n",
       "      <th>isactivemember</th>\n",
       "      <th>estimatedsalary</th>\n",
       "      <th>exited</th>\n",
       "    </tr>\n",
       "  </thead>\n",
       "  <tbody>\n",
       "    <tr>\n",
       "      <th>0</th>\n",
       "      <td>1</td>\n",
       "      <td>15634602</td>\n",
       "      <td>619</td>\n",
       "      <td>France</td>\n",
       "      <td>Female</td>\n",
       "      <td>42</td>\n",
       "      <td>2.0</td>\n",
       "      <td>0.00</td>\n",
       "      <td>1</td>\n",
       "      <td>1</td>\n",
       "      <td>1</td>\n",
       "      <td>101348.88</td>\n",
       "      <td>1</td>\n",
       "    </tr>\n",
       "    <tr>\n",
       "      <th>1</th>\n",
       "      <td>2</td>\n",
       "      <td>15647311</td>\n",
       "      <td>608</td>\n",
       "      <td>Spain</td>\n",
       "      <td>Female</td>\n",
       "      <td>41</td>\n",
       "      <td>1.0</td>\n",
       "      <td>83807.86</td>\n",
       "      <td>1</td>\n",
       "      <td>0</td>\n",
       "      <td>1</td>\n",
       "      <td>112542.58</td>\n",
       "      <td>0</td>\n",
       "    </tr>\n",
       "    <tr>\n",
       "      <th>2</th>\n",
       "      <td>3</td>\n",
       "      <td>15619304</td>\n",
       "      <td>502</td>\n",
       "      <td>France</td>\n",
       "      <td>Female</td>\n",
       "      <td>42</td>\n",
       "      <td>8.0</td>\n",
       "      <td>159660.80</td>\n",
       "      <td>3</td>\n",
       "      <td>1</td>\n",
       "      <td>0</td>\n",
       "      <td>113931.57</td>\n",
       "      <td>1</td>\n",
       "    </tr>\n",
       "    <tr>\n",
       "      <th>3</th>\n",
       "      <td>4</td>\n",
       "      <td>15701354</td>\n",
       "      <td>699</td>\n",
       "      <td>France</td>\n",
       "      <td>Female</td>\n",
       "      <td>39</td>\n",
       "      <td>1.0</td>\n",
       "      <td>0.00</td>\n",
       "      <td>2</td>\n",
       "      <td>0</td>\n",
       "      <td>0</td>\n",
       "      <td>93826.63</td>\n",
       "      <td>0</td>\n",
       "    </tr>\n",
       "    <tr>\n",
       "      <th>4</th>\n",
       "      <td>5</td>\n",
       "      <td>15737888</td>\n",
       "      <td>850</td>\n",
       "      <td>Spain</td>\n",
       "      <td>Female</td>\n",
       "      <td>43</td>\n",
       "      <td>2.0</td>\n",
       "      <td>125510.82</td>\n",
       "      <td>1</td>\n",
       "      <td>1</td>\n",
       "      <td>1</td>\n",
       "      <td>79084.10</td>\n",
       "      <td>0</td>\n",
       "    </tr>\n",
       "    <tr>\n",
       "      <th>5</th>\n",
       "      <td>6</td>\n",
       "      <td>15574012</td>\n",
       "      <td>645</td>\n",
       "      <td>Spain</td>\n",
       "      <td>Male</td>\n",
       "      <td>44</td>\n",
       "      <td>8.0</td>\n",
       "      <td>113755.78</td>\n",
       "      <td>2</td>\n",
       "      <td>1</td>\n",
       "      <td>0</td>\n",
       "      <td>149756.71</td>\n",
       "      <td>1</td>\n",
       "    </tr>\n",
       "    <tr>\n",
       "      <th>6</th>\n",
       "      <td>7</td>\n",
       "      <td>15592531</td>\n",
       "      <td>822</td>\n",
       "      <td>France</td>\n",
       "      <td>Male</td>\n",
       "      <td>50</td>\n",
       "      <td>7.0</td>\n",
       "      <td>0.00</td>\n",
       "      <td>2</td>\n",
       "      <td>1</td>\n",
       "      <td>1</td>\n",
       "      <td>10062.80</td>\n",
       "      <td>0</td>\n",
       "    </tr>\n",
       "    <tr>\n",
       "      <th>7</th>\n",
       "      <td>8</td>\n",
       "      <td>15656148</td>\n",
       "      <td>376</td>\n",
       "      <td>Germany</td>\n",
       "      <td>Female</td>\n",
       "      <td>29</td>\n",
       "      <td>4.0</td>\n",
       "      <td>115046.74</td>\n",
       "      <td>4</td>\n",
       "      <td>1</td>\n",
       "      <td>0</td>\n",
       "      <td>119346.88</td>\n",
       "      <td>1</td>\n",
       "    </tr>\n",
       "    <tr>\n",
       "      <th>8</th>\n",
       "      <td>9</td>\n",
       "      <td>15792365</td>\n",
       "      <td>501</td>\n",
       "      <td>France</td>\n",
       "      <td>Male</td>\n",
       "      <td>44</td>\n",
       "      <td>4.0</td>\n",
       "      <td>142051.07</td>\n",
       "      <td>2</td>\n",
       "      <td>0</td>\n",
       "      <td>1</td>\n",
       "      <td>74940.50</td>\n",
       "      <td>0</td>\n",
       "    </tr>\n",
       "    <tr>\n",
       "      <th>9</th>\n",
       "      <td>10</td>\n",
       "      <td>15592389</td>\n",
       "      <td>684</td>\n",
       "      <td>France</td>\n",
       "      <td>Male</td>\n",
       "      <td>27</td>\n",
       "      <td>2.0</td>\n",
       "      <td>134603.88</td>\n",
       "      <td>1</td>\n",
       "      <td>1</td>\n",
       "      <td>1</td>\n",
       "      <td>71725.73</td>\n",
       "      <td>0</td>\n",
       "    </tr>\n",
       "    <tr>\n",
       "      <th>10</th>\n",
       "      <td>11</td>\n",
       "      <td>15767821</td>\n",
       "      <td>528</td>\n",
       "      <td>France</td>\n",
       "      <td>Male</td>\n",
       "      <td>31</td>\n",
       "      <td>6.0</td>\n",
       "      <td>102016.72</td>\n",
       "      <td>2</td>\n",
       "      <td>0</td>\n",
       "      <td>0</td>\n",
       "      <td>80181.12</td>\n",
       "      <td>0</td>\n",
       "    </tr>\n",
       "    <tr>\n",
       "      <th>11</th>\n",
       "      <td>12</td>\n",
       "      <td>15737173</td>\n",
       "      <td>497</td>\n",
       "      <td>Spain</td>\n",
       "      <td>Male</td>\n",
       "      <td>24</td>\n",
       "      <td>3.0</td>\n",
       "      <td>0.00</td>\n",
       "      <td>2</td>\n",
       "      <td>1</td>\n",
       "      <td>0</td>\n",
       "      <td>76390.01</td>\n",
       "      <td>0</td>\n",
       "    </tr>\n",
       "    <tr>\n",
       "      <th>12</th>\n",
       "      <td>13</td>\n",
       "      <td>15632264</td>\n",
       "      <td>476</td>\n",
       "      <td>France</td>\n",
       "      <td>Female</td>\n",
       "      <td>34</td>\n",
       "      <td>10.0</td>\n",
       "      <td>0.00</td>\n",
       "      <td>2</td>\n",
       "      <td>1</td>\n",
       "      <td>0</td>\n",
       "      <td>26260.98</td>\n",
       "      <td>0</td>\n",
       "    </tr>\n",
       "    <tr>\n",
       "      <th>13</th>\n",
       "      <td>14</td>\n",
       "      <td>15691483</td>\n",
       "      <td>549</td>\n",
       "      <td>France</td>\n",
       "      <td>Female</td>\n",
       "      <td>25</td>\n",
       "      <td>5.0</td>\n",
       "      <td>0.00</td>\n",
       "      <td>2</td>\n",
       "      <td>0</td>\n",
       "      <td>0</td>\n",
       "      <td>190857.79</td>\n",
       "      <td>0</td>\n",
       "    </tr>\n",
       "    <tr>\n",
       "      <th>14</th>\n",
       "      <td>15</td>\n",
       "      <td>15600882</td>\n",
       "      <td>635</td>\n",
       "      <td>Spain</td>\n",
       "      <td>Female</td>\n",
       "      <td>35</td>\n",
       "      <td>7.0</td>\n",
       "      <td>0.00</td>\n",
       "      <td>2</td>\n",
       "      <td>1</td>\n",
       "      <td>1</td>\n",
       "      <td>65951.65</td>\n",
       "      <td>0</td>\n",
       "    </tr>\n",
       "    <tr>\n",
       "      <th>15</th>\n",
       "      <td>16</td>\n",
       "      <td>15643966</td>\n",
       "      <td>616</td>\n",
       "      <td>Germany</td>\n",
       "      <td>Male</td>\n",
       "      <td>45</td>\n",
       "      <td>3.0</td>\n",
       "      <td>143129.41</td>\n",
       "      <td>2</td>\n",
       "      <td>0</td>\n",
       "      <td>1</td>\n",
       "      <td>64327.26</td>\n",
       "      <td>0</td>\n",
       "    </tr>\n",
       "    <tr>\n",
       "      <th>16</th>\n",
       "      <td>17</td>\n",
       "      <td>15737452</td>\n",
       "      <td>653</td>\n",
       "      <td>Germany</td>\n",
       "      <td>Male</td>\n",
       "      <td>58</td>\n",
       "      <td>1.0</td>\n",
       "      <td>132602.88</td>\n",
       "      <td>1</td>\n",
       "      <td>1</td>\n",
       "      <td>0</td>\n",
       "      <td>5097.67</td>\n",
       "      <td>1</td>\n",
       "    </tr>\n",
       "    <tr>\n",
       "      <th>17</th>\n",
       "      <td>18</td>\n",
       "      <td>15788218</td>\n",
       "      <td>549</td>\n",
       "      <td>Spain</td>\n",
       "      <td>Female</td>\n",
       "      <td>24</td>\n",
       "      <td>9.0</td>\n",
       "      <td>0.00</td>\n",
       "      <td>2</td>\n",
       "      <td>1</td>\n",
       "      <td>1</td>\n",
       "      <td>14406.41</td>\n",
       "      <td>0</td>\n",
       "    </tr>\n",
       "    <tr>\n",
       "      <th>18</th>\n",
       "      <td>19</td>\n",
       "      <td>15661507</td>\n",
       "      <td>587</td>\n",
       "      <td>Spain</td>\n",
       "      <td>Male</td>\n",
       "      <td>45</td>\n",
       "      <td>6.0</td>\n",
       "      <td>0.00</td>\n",
       "      <td>1</td>\n",
       "      <td>0</td>\n",
       "      <td>0</td>\n",
       "      <td>158684.81</td>\n",
       "      <td>0</td>\n",
       "    </tr>\n",
       "    <tr>\n",
       "      <th>19</th>\n",
       "      <td>20</td>\n",
       "      <td>15568982</td>\n",
       "      <td>726</td>\n",
       "      <td>France</td>\n",
       "      <td>Female</td>\n",
       "      <td>24</td>\n",
       "      <td>6.0</td>\n",
       "      <td>0.00</td>\n",
       "      <td>2</td>\n",
       "      <td>1</td>\n",
       "      <td>1</td>\n",
       "      <td>54724.03</td>\n",
       "      <td>0</td>\n",
       "    </tr>\n",
       "  </tbody>\n",
       "</table>\n",
       "</div>"
      ],
      "text/plain": [
       "    rownumber  customerid  creditscore geography  gender  age  tenure  \\\n",
       "0           1    15634602          619    France  Female   42     2.0   \n",
       "1           2    15647311          608     Spain  Female   41     1.0   \n",
       "2           3    15619304          502    France  Female   42     8.0   \n",
       "3           4    15701354          699    France  Female   39     1.0   \n",
       "4           5    15737888          850     Spain  Female   43     2.0   \n",
       "5           6    15574012          645     Spain    Male   44     8.0   \n",
       "6           7    15592531          822    France    Male   50     7.0   \n",
       "7           8    15656148          376   Germany  Female   29     4.0   \n",
       "8           9    15792365          501    France    Male   44     4.0   \n",
       "9          10    15592389          684    France    Male   27     2.0   \n",
       "10         11    15767821          528    France    Male   31     6.0   \n",
       "11         12    15737173          497     Spain    Male   24     3.0   \n",
       "12         13    15632264          476    France  Female   34    10.0   \n",
       "13         14    15691483          549    France  Female   25     5.0   \n",
       "14         15    15600882          635     Spain  Female   35     7.0   \n",
       "15         16    15643966          616   Germany    Male   45     3.0   \n",
       "16         17    15737452          653   Germany    Male   58     1.0   \n",
       "17         18    15788218          549     Spain  Female   24     9.0   \n",
       "18         19    15661507          587     Spain    Male   45     6.0   \n",
       "19         20    15568982          726    France  Female   24     6.0   \n",
       "\n",
       "      balance  numofproducts  hascrcard  isactivemember  estimatedsalary  \\\n",
       "0        0.00              1          1               1        101348.88   \n",
       "1    83807.86              1          0               1        112542.58   \n",
       "2   159660.80              3          1               0        113931.57   \n",
       "3        0.00              2          0               0         93826.63   \n",
       "4   125510.82              1          1               1         79084.10   \n",
       "5   113755.78              2          1               0        149756.71   \n",
       "6        0.00              2          1               1         10062.80   \n",
       "7   115046.74              4          1               0        119346.88   \n",
       "8   142051.07              2          0               1         74940.50   \n",
       "9   134603.88              1          1               1         71725.73   \n",
       "10  102016.72              2          0               0         80181.12   \n",
       "11       0.00              2          1               0         76390.01   \n",
       "12       0.00              2          1               0         26260.98   \n",
       "13       0.00              2          0               0        190857.79   \n",
       "14       0.00              2          1               1         65951.65   \n",
       "15  143129.41              2          0               1         64327.26   \n",
       "16  132602.88              1          1               0          5097.67   \n",
       "17       0.00              2          1               1         14406.41   \n",
       "18       0.00              1          0               0        158684.81   \n",
       "19       0.00              2          1               1         54724.03   \n",
       "\n",
       "    exited  \n",
       "0        1  \n",
       "1        0  \n",
       "2        1  \n",
       "3        0  \n",
       "4        0  \n",
       "5        1  \n",
       "6        0  \n",
       "7        1  \n",
       "8        0  \n",
       "9        0  \n",
       "10       0  \n",
       "11       0  \n",
       "12       0  \n",
       "13       0  \n",
       "14       0  \n",
       "15       0  \n",
       "16       1  \n",
       "17       0  \n",
       "18       0  \n",
       "19       0  "
      ]
     },
     "execution_count": 11,
     "metadata": {},
     "output_type": "execute_result"
    }
   ],
   "source": [
    "df.head(20)"
   ]
  },
  {
   "cell_type": "code",
   "execution_count": 12,
   "id": "920fa130",
   "metadata": {},
   "outputs": [
    {
     "name": "stdout",
     "output_type": "stream",
     "text": [
      "<class 'pandas.core.frame.DataFrame'>\n",
      "RangeIndex: 10000 entries, 0 to 9999\n",
      "Data columns (total 13 columns):\n",
      " #   Column           Non-Null Count  Dtype  \n",
      "---  ------           --------------  -----  \n",
      " 0   rownumber        10000 non-null  int64  \n",
      " 1   customerid       10000 non-null  int64  \n",
      " 2   creditscore      10000 non-null  int64  \n",
      " 3   geography        10000 non-null  object \n",
      " 4   gender           10000 non-null  object \n",
      " 5   age              10000 non-null  int64  \n",
      " 6   tenure           9091 non-null   float64\n",
      " 7   balance          10000 non-null  float64\n",
      " 8   numofproducts    10000 non-null  int64  \n",
      " 9   hascrcard        10000 non-null  int64  \n",
      " 10  isactivemember   10000 non-null  int64  \n",
      " 11  estimatedsalary  10000 non-null  float64\n",
      " 12  exited           10000 non-null  int64  \n",
      "dtypes: float64(3), int64(8), object(2)\n",
      "memory usage: 1015.8+ KB\n"
     ]
    }
   ],
   "source": [
    "# Check our work \n",
    "df.info()"
   ]
  },
  {
   "cell_type": "markdown",
   "id": "4a35f32d",
   "metadata": {},
   "source": [
    "## Analyzing the Missing Values\n",
    "- Examining the relationship between missing `Tenure` values and other features"
   ]
  },
  {
   "cell_type": "code",
   "execution_count": 13,
   "id": "f88ecb08",
   "metadata": {
    "scrolled": false
   },
   "outputs": [
    {
     "data": {
      "text/plain": [
       "tenure\n",
       "1.0     952\n",
       "2.0     950\n",
       "8.0     933\n",
       "3.0     928\n",
       "5.0     927\n",
       "7.0     925\n",
       "4.0     885\n",
       "9.0     882\n",
       "6.0     881\n",
       "10.0    446\n",
       "0.0     382\n",
       "Name: count, dtype: int64"
      ]
     },
     "execution_count": 13,
     "metadata": {},
     "output_type": "execute_result"
    }
   ],
   "source": [
    "#Investigating the tenure column\n",
    "df['tenure'].value_counts()"
   ]
  },
  {
   "cell_type": "code",
   "execution_count": 14,
   "id": "d7b2bb85",
   "metadata": {
    "scrolled": false
   },
   "outputs": [
    {
     "data": {
      "text/plain": [
       "count    9091.000000\n",
       "mean        4.997690\n",
       "std         2.894723\n",
       "min         0.000000\n",
       "25%         2.000000\n",
       "50%         5.000000\n",
       "75%         7.000000\n",
       "max        10.000000\n",
       "Name: tenure, dtype: float64"
      ]
     },
     "execution_count": 14,
     "metadata": {},
     "output_type": "execute_result"
    }
   ],
   "source": [
    "df['tenure'].describe()"
   ]
  },
  {
   "cell_type": "code",
   "execution_count": 15,
   "id": "79cc7515",
   "metadata": {
    "scrolled": true
   },
   "outputs": [
    {
     "data": {
      "text/plain": [
       "5.0"
      ]
     },
     "execution_count": 15,
     "metadata": {},
     "output_type": "execute_result"
    }
   ],
   "source": [
    "# Calculate the median \n",
    "median_tenure = df['tenure'].median()\n",
    "median_tenure"
   ]
  },
  {
   "cell_type": "markdown",
   "id": "15679ee4",
   "metadata": {},
   "source": [
    "I was wondering if the NaN values might mean these customers are new customers, where the NaN could be replaced with 'Unknown'. \n",
    "\n"
   ]
  },
  {
   "cell_type": "markdown",
   "id": "9e2e83d2",
   "metadata": {},
   "source": [
    "### Comparing characteristics of customers missing tenure values"
   ]
  },
  {
   "cell_type": "code",
   "execution_count": 16,
   "id": "1bac6d2f",
   "metadata": {
    "scrolled": true
   },
   "outputs": [
    {
     "data": {
      "text/html": [
       "<div>\n",
       "<style scoped>\n",
       "    .dataframe tbody tr th:only-of-type {\n",
       "        vertical-align: middle;\n",
       "    }\n",
       "\n",
       "    .dataframe tbody tr th {\n",
       "        vertical-align: top;\n",
       "    }\n",
       "\n",
       "    .dataframe thead th {\n",
       "        text-align: right;\n",
       "    }\n",
       "</style>\n",
       "<table border=\"1\" class=\"dataframe\">\n",
       "  <thead>\n",
       "    <tr style=\"text-align: right;\">\n",
       "      <th></th>\n",
       "      <th>rownumber</th>\n",
       "      <th>customerid</th>\n",
       "      <th>creditscore</th>\n",
       "      <th>age</th>\n",
       "      <th>tenure</th>\n",
       "      <th>balance</th>\n",
       "      <th>numofproducts</th>\n",
       "      <th>hascrcard</th>\n",
       "      <th>isactivemember</th>\n",
       "      <th>estimatedsalary</th>\n",
       "      <th>exited</th>\n",
       "    </tr>\n",
       "  </thead>\n",
       "  <tbody>\n",
       "    <tr>\n",
       "      <th>count</th>\n",
       "      <td>909.000000</td>\n",
       "      <td>9.090000e+02</td>\n",
       "      <td>909.000000</td>\n",
       "      <td>909.000000</td>\n",
       "      <td>0.0</td>\n",
       "      <td>909.000000</td>\n",
       "      <td>909.000000</td>\n",
       "      <td>909.000000</td>\n",
       "      <td>909.000000</td>\n",
       "      <td>909.000000</td>\n",
       "      <td>909.000000</td>\n",
       "    </tr>\n",
       "    <tr>\n",
       "      <th>mean</th>\n",
       "      <td>4866.386139</td>\n",
       "      <td>1.568981e+07</td>\n",
       "      <td>648.451045</td>\n",
       "      <td>38.647965</td>\n",
       "      <td>NaN</td>\n",
       "      <td>76117.341474</td>\n",
       "      <td>1.530253</td>\n",
       "      <td>0.710671</td>\n",
       "      <td>0.510451</td>\n",
       "      <td>99180.389373</td>\n",
       "      <td>0.201320</td>\n",
       "    </tr>\n",
       "    <tr>\n",
       "      <th>std</th>\n",
       "      <td>2909.604343</td>\n",
       "      <td>7.511225e+04</td>\n",
       "      <td>99.079381</td>\n",
       "      <td>9.785438</td>\n",
       "      <td>NaN</td>\n",
       "      <td>63105.690715</td>\n",
       "      <td>0.588452</td>\n",
       "      <td>0.453701</td>\n",
       "      <td>0.500166</td>\n",
       "      <td>56378.063765</td>\n",
       "      <td>0.401207</td>\n",
       "    </tr>\n",
       "    <tr>\n",
       "      <th>min</th>\n",
       "      <td>31.000000</td>\n",
       "      <td>1.556581e+07</td>\n",
       "      <td>359.000000</td>\n",
       "      <td>18.000000</td>\n",
       "      <td>NaN</td>\n",
       "      <td>0.000000</td>\n",
       "      <td>1.000000</td>\n",
       "      <td>0.000000</td>\n",
       "      <td>0.000000</td>\n",
       "      <td>106.670000</td>\n",
       "      <td>0.000000</td>\n",
       "    </tr>\n",
       "    <tr>\n",
       "      <th>25%</th>\n",
       "      <td>2311.000000</td>\n",
       "      <td>1.562658e+07</td>\n",
       "      <td>580.000000</td>\n",
       "      <td>32.000000</td>\n",
       "      <td>NaN</td>\n",
       "      <td>0.000000</td>\n",
       "      <td>1.000000</td>\n",
       "      <td>0.000000</td>\n",
       "      <td>0.000000</td>\n",
       "      <td>49872.330000</td>\n",
       "      <td>0.000000</td>\n",
       "    </tr>\n",
       "    <tr>\n",
       "      <th>50%</th>\n",
       "      <td>4887.000000</td>\n",
       "      <td>1.568687e+07</td>\n",
       "      <td>647.000000</td>\n",
       "      <td>37.000000</td>\n",
       "      <td>NaN</td>\n",
       "      <td>96674.550000</td>\n",
       "      <td>1.000000</td>\n",
       "      <td>1.000000</td>\n",
       "      <td>1.000000</td>\n",
       "      <td>99444.020000</td>\n",
       "      <td>0.000000</td>\n",
       "    </tr>\n",
       "    <tr>\n",
       "      <th>75%</th>\n",
       "      <td>7306.000000</td>\n",
       "      <td>1.575680e+07</td>\n",
       "      <td>718.000000</td>\n",
       "      <td>43.000000</td>\n",
       "      <td>NaN</td>\n",
       "      <td>128554.980000</td>\n",
       "      <td>2.000000</td>\n",
       "      <td>1.000000</td>\n",
       "      <td>1.000000</td>\n",
       "      <td>145759.700000</td>\n",
       "      <td>0.000000</td>\n",
       "    </tr>\n",
       "    <tr>\n",
       "      <th>max</th>\n",
       "      <td>10000.000000</td>\n",
       "      <td>1.581569e+07</td>\n",
       "      <td>850.000000</td>\n",
       "      <td>92.000000</td>\n",
       "      <td>NaN</td>\n",
       "      <td>206663.750000</td>\n",
       "      <td>4.000000</td>\n",
       "      <td>1.000000</td>\n",
       "      <td>1.000000</td>\n",
       "      <td>199390.450000</td>\n",
       "      <td>1.000000</td>\n",
       "    </tr>\n",
       "  </tbody>\n",
       "</table>\n",
       "</div>"
      ],
      "text/plain": [
       "          rownumber    customerid  creditscore         age  tenure  \\\n",
       "count    909.000000  9.090000e+02   909.000000  909.000000     0.0   \n",
       "mean    4866.386139  1.568981e+07   648.451045   38.647965     NaN   \n",
       "std     2909.604343  7.511225e+04    99.079381    9.785438     NaN   \n",
       "min       31.000000  1.556581e+07   359.000000   18.000000     NaN   \n",
       "25%     2311.000000  1.562658e+07   580.000000   32.000000     NaN   \n",
       "50%     4887.000000  1.568687e+07   647.000000   37.000000     NaN   \n",
       "75%     7306.000000  1.575680e+07   718.000000   43.000000     NaN   \n",
       "max    10000.000000  1.581569e+07   850.000000   92.000000     NaN   \n",
       "\n",
       "             balance  numofproducts   hascrcard  isactivemember  \\\n",
       "count     909.000000     909.000000  909.000000      909.000000   \n",
       "mean    76117.341474       1.530253    0.710671        0.510451   \n",
       "std     63105.690715       0.588452    0.453701        0.500166   \n",
       "min         0.000000       1.000000    0.000000        0.000000   \n",
       "25%         0.000000       1.000000    0.000000        0.000000   \n",
       "50%     96674.550000       1.000000    1.000000        1.000000   \n",
       "75%    128554.980000       2.000000    1.000000        1.000000   \n",
       "max    206663.750000       4.000000    1.000000        1.000000   \n",
       "\n",
       "       estimatedsalary      exited  \n",
       "count       909.000000  909.000000  \n",
       "mean      99180.389373    0.201320  \n",
       "std       56378.063765    0.401207  \n",
       "min         106.670000    0.000000  \n",
       "25%       49872.330000    0.000000  \n",
       "50%       99444.020000    0.000000  \n",
       "75%      145759.700000    0.000000  \n",
       "max      199390.450000    1.000000  "
      ]
     },
     "execution_count": 16,
     "metadata": {},
     "output_type": "execute_result"
    }
   ],
   "source": [
    "# Summary statists for customers missing tenure \n",
    "missing_tenure = df[df['tenure'].isnull()].describe()\n",
    "missing_tenure"
   ]
  },
  {
   "cell_type": "code",
   "execution_count": 17,
   "id": "4adebd8d",
   "metadata": {},
   "outputs": [
    {
     "data": {
      "text/html": [
       "<div>\n",
       "<style scoped>\n",
       "    .dataframe tbody tr th:only-of-type {\n",
       "        vertical-align: middle;\n",
       "    }\n",
       "\n",
       "    .dataframe tbody tr th {\n",
       "        vertical-align: top;\n",
       "    }\n",
       "\n",
       "    .dataframe thead th {\n",
       "        text-align: right;\n",
       "    }\n",
       "</style>\n",
       "<table border=\"1\" class=\"dataframe\">\n",
       "  <thead>\n",
       "    <tr style=\"text-align: right;\">\n",
       "      <th></th>\n",
       "      <th>rownumber</th>\n",
       "      <th>customerid</th>\n",
       "      <th>creditscore</th>\n",
       "      <th>age</th>\n",
       "      <th>tenure</th>\n",
       "      <th>balance</th>\n",
       "      <th>numofproducts</th>\n",
       "      <th>hascrcard</th>\n",
       "      <th>isactivemember</th>\n",
       "      <th>estimatedsalary</th>\n",
       "      <th>exited</th>\n",
       "    </tr>\n",
       "  </thead>\n",
       "  <tbody>\n",
       "    <tr>\n",
       "      <th>count</th>\n",
       "      <td>9091.000000</td>\n",
       "      <td>9.091000e+03</td>\n",
       "      <td>9091.000000</td>\n",
       "      <td>9091.000000</td>\n",
       "      <td>9091.000000</td>\n",
       "      <td>9091.000000</td>\n",
       "      <td>9091.000000</td>\n",
       "      <td>9091.000000</td>\n",
       "      <td>9091.000000</td>\n",
       "      <td>9091.000000</td>\n",
       "      <td>9091.000000</td>\n",
       "    </tr>\n",
       "    <tr>\n",
       "      <th>mean</th>\n",
       "      <td>5013.909911</td>\n",
       "      <td>1.569105e+07</td>\n",
       "      <td>650.736553</td>\n",
       "      <td>38.949181</td>\n",
       "      <td>4.997690</td>\n",
       "      <td>76522.740015</td>\n",
       "      <td>1.530195</td>\n",
       "      <td>0.704983</td>\n",
       "      <td>0.515565</td>\n",
       "      <td>100181.214924</td>\n",
       "      <td>0.203938</td>\n",
       "    </tr>\n",
       "    <tr>\n",
       "      <th>std</th>\n",
       "      <td>2884.433466</td>\n",
       "      <td>7.161419e+04</td>\n",
       "      <td>96.410471</td>\n",
       "      <td>10.555581</td>\n",
       "      <td>2.894723</td>\n",
       "      <td>62329.528576</td>\n",
       "      <td>0.581003</td>\n",
       "      <td>0.456076</td>\n",
       "      <td>0.499785</td>\n",
       "      <td>57624.755647</td>\n",
       "      <td>0.402946</td>\n",
       "    </tr>\n",
       "    <tr>\n",
       "      <th>min</th>\n",
       "      <td>1.000000</td>\n",
       "      <td>1.556570e+07</td>\n",
       "      <td>350.000000</td>\n",
       "      <td>18.000000</td>\n",
       "      <td>0.000000</td>\n",
       "      <td>0.000000</td>\n",
       "      <td>1.000000</td>\n",
       "      <td>0.000000</td>\n",
       "      <td>0.000000</td>\n",
       "      <td>11.580000</td>\n",
       "      <td>0.000000</td>\n",
       "    </tr>\n",
       "    <tr>\n",
       "      <th>25%</th>\n",
       "      <td>2521.500000</td>\n",
       "      <td>1.562899e+07</td>\n",
       "      <td>584.000000</td>\n",
       "      <td>32.000000</td>\n",
       "      <td>2.000000</td>\n",
       "      <td>0.000000</td>\n",
       "      <td>1.000000</td>\n",
       "      <td>0.000000</td>\n",
       "      <td>0.000000</td>\n",
       "      <td>51227.745000</td>\n",
       "      <td>0.000000</td>\n",
       "    </tr>\n",
       "    <tr>\n",
       "      <th>50%</th>\n",
       "      <td>5019.000000</td>\n",
       "      <td>1.569106e+07</td>\n",
       "      <td>652.000000</td>\n",
       "      <td>37.000000</td>\n",
       "      <td>5.000000</td>\n",
       "      <td>97318.250000</td>\n",
       "      <td>1.000000</td>\n",
       "      <td>1.000000</td>\n",
       "      <td>1.000000</td>\n",
       "      <td>100240.200000</td>\n",
       "      <td>0.000000</td>\n",
       "    </tr>\n",
       "    <tr>\n",
       "      <th>75%</th>\n",
       "      <td>7511.500000</td>\n",
       "      <td>1.575285e+07</td>\n",
       "      <td>717.000000</td>\n",
       "      <td>44.000000</td>\n",
       "      <td>7.000000</td>\n",
       "      <td>127561.890000</td>\n",
       "      <td>2.000000</td>\n",
       "      <td>1.000000</td>\n",
       "      <td>1.000000</td>\n",
       "      <td>149567.210000</td>\n",
       "      <td>0.000000</td>\n",
       "    </tr>\n",
       "    <tr>\n",
       "      <th>max</th>\n",
       "      <td>9999.000000</td>\n",
       "      <td>1.581566e+07</td>\n",
       "      <td>850.000000</td>\n",
       "      <td>92.000000</td>\n",
       "      <td>10.000000</td>\n",
       "      <td>250898.090000</td>\n",
       "      <td>4.000000</td>\n",
       "      <td>1.000000</td>\n",
       "      <td>1.000000</td>\n",
       "      <td>199992.480000</td>\n",
       "      <td>1.000000</td>\n",
       "    </tr>\n",
       "  </tbody>\n",
       "</table>\n",
       "</div>"
      ],
      "text/plain": [
       "         rownumber    customerid  creditscore          age       tenure  \\\n",
       "count  9091.000000  9.091000e+03  9091.000000  9091.000000  9091.000000   \n",
       "mean   5013.909911  1.569105e+07   650.736553    38.949181     4.997690   \n",
       "std    2884.433466  7.161419e+04    96.410471    10.555581     2.894723   \n",
       "min       1.000000  1.556570e+07   350.000000    18.000000     0.000000   \n",
       "25%    2521.500000  1.562899e+07   584.000000    32.000000     2.000000   \n",
       "50%    5019.000000  1.569106e+07   652.000000    37.000000     5.000000   \n",
       "75%    7511.500000  1.575285e+07   717.000000    44.000000     7.000000   \n",
       "max    9999.000000  1.581566e+07   850.000000    92.000000    10.000000   \n",
       "\n",
       "             balance  numofproducts    hascrcard  isactivemember  \\\n",
       "count    9091.000000    9091.000000  9091.000000     9091.000000   \n",
       "mean    76522.740015       1.530195     0.704983        0.515565   \n",
       "std     62329.528576       0.581003     0.456076        0.499785   \n",
       "min         0.000000       1.000000     0.000000        0.000000   \n",
       "25%         0.000000       1.000000     0.000000        0.000000   \n",
       "50%     97318.250000       1.000000     1.000000        1.000000   \n",
       "75%    127561.890000       2.000000     1.000000        1.000000   \n",
       "max    250898.090000       4.000000     1.000000        1.000000   \n",
       "\n",
       "       estimatedsalary       exited  \n",
       "count      9091.000000  9091.000000  \n",
       "mean     100181.214924     0.203938  \n",
       "std       57624.755647     0.402946  \n",
       "min          11.580000     0.000000  \n",
       "25%       51227.745000     0.000000  \n",
       "50%      100240.200000     0.000000  \n",
       "75%      149567.210000     0.000000  \n",
       "max      199992.480000     1.000000  "
      ]
     },
     "execution_count": 17,
     "metadata": {},
     "output_type": "execute_result"
    }
   ],
   "source": [
    "# Summary statistics for customers with tenure \n",
    "valid_tenure = df[df['tenure'].notnull()].describe()\n",
    "valid_tenure"
   ]
  },
  {
   "cell_type": "markdown",
   "id": "14c4bcbf",
   "metadata": {},
   "source": []
  },
  {
   "cell_type": "markdown",
   "id": "547a8dfb",
   "metadata": {},
   "source": [
    "### Comparing Age and Credit Score for those without tenure"
   ]
  },
  {
   "cell_type": "code",
   "execution_count": 18,
   "id": "683ba3b8",
   "metadata": {
    "scrolled": true
   },
   "outputs": [
    {
     "name": "stdout",
     "output_type": "stream",
     "text": [
      "Average Age Comparison:\n",
      " tenure\n",
      "False    38.949181\n",
      "True     38.647965\n",
      "Name: age, dtype: float64\n"
     ]
    }
   ],
   "source": [
    "# Compare age distribution\n",
    "age_comparison = df.groupby(df['tenure'].isnull())['age'].mean()\n",
    "print(\"Average Age Comparison:\\n\", age_comparison)"
   ]
  },
  {
   "cell_type": "code",
   "execution_count": 19,
   "id": "9887577c",
   "metadata": {
    "scrolled": true
   },
   "outputs": [
    {
     "name": "stdout",
     "output_type": "stream",
     "text": [
      "Average Credit Score Comparison:\n",
      " tenure\n",
      "False    650.736553\n",
      "True     648.451045\n",
      "Name: creditscore, dtype: float64\n"
     ]
    }
   ],
   "source": [
    "# Compare credit score distribution\n",
    "credit_score_comparison = df.groupby(df['tenure'].isnull())['creditscore'].mean()\n",
    "print(\"Average Credit Score Comparison:\\n\", credit_score_comparison)"
   ]
  },
  {
   "cell_type": "markdown",
   "id": "43e2f239",
   "metadata": {},
   "source": [
    "### Visualize the comparison data"
   ]
  },
  {
   "cell_type": "code",
   "execution_count": 20,
   "id": "896e466e",
   "metadata": {},
   "outputs": [
    {
     "name": "stderr",
     "output_type": "stream",
     "text": [
      "/Users/lrw/anaconda3/lib/python3.11/site-packages/seaborn/_oldcore.py:1119: FutureWarning: use_inf_as_na option is deprecated and will be removed in a future version. Convert inf values to NaN before operating instead.\n",
      "  with pd.option_context('mode.use_inf_as_na', True):\n",
      "/Users/lrw/anaconda3/lib/python3.11/site-packages/seaborn/_oldcore.py:1075: FutureWarning: When grouping with a length-1 list-like, you will need to pass a length-1 tuple to get_group in a future version of pandas. Pass `(name,)` instead of `name` to silence this warning.\n",
      "  data_subset = grouped_data.get_group(pd_key)\n",
      "/Users/lrw/anaconda3/lib/python3.11/site-packages/seaborn/_oldcore.py:1075: FutureWarning: When grouping with a length-1 list-like, you will need to pass a length-1 tuple to get_group in a future version of pandas. Pass `(name,)` instead of `name` to silence this warning.\n",
      "  data_subset = grouped_data.get_group(pd_key)\n",
      "/Users/lrw/anaconda3/lib/python3.11/site-packages/seaborn/_oldcore.py:1075: FutureWarning: When grouping with a length-1 list-like, you will need to pass a length-1 tuple to get_group in a future version of pandas. Pass `(name,)` instead of `name` to silence this warning.\n",
      "  data_subset = grouped_data.get_group(pd_key)\n"
     ]
    },
    {
     "data": {
      "image/png": "[encoded data removed]",
      "text/plain": [
       "<Figure size 1200x600 with 1 Axes>"
      ]
     },
     "metadata": {},
     "output_type": "display_data"
    },
    {
     "name": "stderr",
     "output_type": "stream",
     "text": [
      "/Users/lrw/anaconda3/lib/python3.11/site-packages/seaborn/_oldcore.py:1119: FutureWarning: use_inf_as_na option is deprecated and will be removed in a future version. Convert inf values to NaN before operating instead.\n",
      "  with pd.option_context('mode.use_inf_as_na', True):\n",
      "/Users/lrw/anaconda3/lib/python3.11/site-packages/seaborn/_oldcore.py:1075: FutureWarning: When grouping with a length-1 list-like, you will need to pass a length-1 tuple to get_group in a future version of pandas. Pass `(name,)` instead of `name` to silence this warning.\n",
      "  data_subset = grouped_data.get_group(pd_key)\n",
      "/Users/lrw/anaconda3/lib/python3.11/site-packages/seaborn/_oldcore.py:1075: FutureWarning: When grouping with a length-1 list-like, you will need to pass a length-1 tuple to get_group in a future version of pandas. Pass `(name,)` instead of `name` to silence this warning.\n",
      "  data_subset = grouped_data.get_group(pd_key)\n",
      "/Users/lrw/anaconda3/lib/python3.11/site-packages/seaborn/_oldcore.py:1075: FutureWarning: When grouping with a length-1 list-like, you will need to pass a length-1 tuple to get_group in a future version of pandas. Pass `(name,)` instead of `name` to silence this warning.\n",
      "  data_subset = grouped_data.get_group(pd_key)\n"
     ]
    },
    {
     "data": {
      "image/png": "[encoded data removed]",
      "text/plain": [
       "<Figure size 1200x600 with 1 Axes>"
      ]
     },
     "metadata": {},
     "output_type": "display_data"
    }
   ],
   "source": [
    "# Age distribution\n",
    "plt.figure(figsize=(12, 6))\n",
    "sns.histplot(data=df, x='age', hue=df['tenure'].isnull(), multiple='stack', bins=30)\n",
    "plt.title('Age Distribution: Customers with and without Missing Tenure')\n",
    "plt.xlabel('Age')\n",
    "plt.ylabel('Count')\n",
    "plt.legend(title='Missing Tenure', labels=['No', 'Yes'])\n",
    "plt.show()\n",
    "\n",
    "# Credit score distribution\n",
    "plt.figure(figsize=(12, 6))\n",
    "sns.histplot(data=df, x='creditscore', hue=df['tenure'].isnull(), multiple='stack', bins=30)\n",
    "plt.title('Credit Score Distribution: Customers with and without Missing Tenure')\n",
    "plt.xlabel('Credit Score')\n",
    "plt.ylabel('Count')\n",
    "plt.legend(title='Missing Tenure', labels=['No', 'Yes'])\n",
    "plt.show()"
   ]
  },
  {
   "cell_type": "markdown",
   "id": "cfd20998",
   "metadata": {},
   "source": []
  },
  {
   "cell_type": "markdown",
   "id": "3f2613db",
   "metadata": {},
   "source": [
    "**Conculsions on the Characteristics of Customers with Missing Tenure:**\n",
    "\n",
    "The summary statistics for customers with missing tenure show a different profile compared to those with valid tenure:\n",
    "\n",
    "- **Credit Score:** The average credit score for customers with missing tenure is slightly lower (4866.39) compared to those with tenure (5013.91).\n",
    "\n",
    "\n",
    "- **Age:** The average age of customers with missing tenure is also slightly lower (38.65) than those with tenure (38.95).\n",
    "\n",
    "\n",
    "- **Balance:** The average balance is similar, suggesting that it may not be a distinguishing feature for new customers.\n",
    "\n",
    "\n",
    "- **Churn Rate:** The churn rate for customers with missing tenure is slightly higher (20.13%) compared to those with tenure (20.39%). This slight difference might indicate that customers without recorded tenure are more likely to churn."
   ]
  },
  {
   "cell_type": "markdown",
   "id": "14a1ff83",
   "metadata": {},
   "source": [
    "### Investigating the Balance of Classes\n",
    "\n",
    "Visually calculating the proportion of customers who churned (1) vs those who didn't churn (0). \n",
    "\n",
    "- **Target Variable:** Exited — сustomer has left\n",
    "- **Features:** All other columns."
   ]
  },
  {
   "cell_type": "code",
   "execution_count": 21,
   "id": "28cfa08c",
   "metadata": {
    "scrolled": true
   },
   "outputs": [
    {
     "data": {
      "text/plain": [
       "exited\n",
       "0    0.7963\n",
       "1    0.2037\n",
       "Name: proportion, dtype: float64"
      ]
     },
     "execution_count": 21,
     "metadata": {},
     "output_type": "execute_result"
    }
   ],
   "source": [
    "#Calculate the proportion of customers who churned (1) vs those who didn't churn (0)\n",
    "df['exited'].value_counts(normalize=True)"
   ]
  },
  {
   "cell_type": "code",
   "execution_count": 22,
   "id": "f2c037c2",
   "metadata": {
    "scrolled": true
   },
   "outputs": [
    {
     "data": {
      "text/plain": [
       "<Axes: xlabel='exited', ylabel='count'>"
      ]
     },
     "execution_count": 22,
     "metadata": {},
     "output_type": "execute_result"
    },
    {
     "data": {
      "image/png": "[encoded data removed]",
      "text/plain": [
       "<Figure size 640x480 with 1 Axes>"
      ]
     },
     "metadata": {},
     "output_type": "display_data"
    }
   ],
   "source": [
    "# Visualizing imbalance\n",
    "sns.countplot(x='exited', data=df)"
   ]
  },
  {
   "cell_type": "markdown",
   "id": "f51dcbd4",
   "metadata": {},
   "source": [
    "The class distribution of the dataset shows that around 79.63% of customers did not churn (0), while 20.37% did churn (1). This indicates an imbalance."
   ]
  },
  {
   "cell_type": "markdown",
   "id": "f5baf738",
   "metadata": {},
   "source": [
    "### Handling the missing values\n",
    "\n",
    "The Logistic Regression model won't accept NaN values, so I'm going to create a column using the median for the Tenure for this model."
   ]
  },
  {
   "cell_type": "code",
   "execution_count": 23,
   "id": "7d4114f4",
   "metadata": {},
   "outputs": [],
   "source": [
    "df['tenure_filled'] = df['tenure'].fillna(median_tenure)"
   ]
  },
  {
   "cell_type": "code",
   "execution_count": 24,
   "id": "f243332a",
   "metadata": {
    "scrolled": false
   },
   "outputs": [
    {
     "data": {
      "text/html": [
       "<div>\n",
       "<style scoped>\n",
       "    .dataframe tbody tr th:only-of-type {\n",
       "        vertical-align: middle;\n",
       "    }\n",
       "\n",
       "    .dataframe tbody tr th {\n",
       "        vertical-align: top;\n",
       "    }\n",
       "\n",
       "    .dataframe thead th {\n",
       "        text-align: right;\n",
       "    }\n",
       "</style>\n",
       "<table border=\"1\" class=\"dataframe\">\n",
       "  <thead>\n",
       "    <tr style=\"text-align: right;\">\n",
       "      <th></th>\n",
       "      <th>rownumber</th>\n",
       "      <th>customerid</th>\n",
       "      <th>creditscore</th>\n",
       "      <th>geography</th>\n",
       "      <th>gender</th>\n",
       "      <th>age</th>\n",
       "      <th>tenure</th>\n",
       "      <th>balance</th>\n",
       "      <th>numofproducts</th>\n",
       "      <th>hascrcard</th>\n",
       "      <th>isactivemember</th>\n",
       "      <th>estimatedsalary</th>\n",
       "      <th>exited</th>\n",
       "      <th>tenure_filled</th>\n",
       "    </tr>\n",
       "  </thead>\n",
       "  <tbody>\n",
       "    <tr>\n",
       "      <th>0</th>\n",
       "      <td>1</td>\n",
       "      <td>15634602</td>\n",
       "      <td>619</td>\n",
       "      <td>France</td>\n",
       "      <td>Female</td>\n",
       "      <td>42</td>\n",
       "      <td>2.0</td>\n",
       "      <td>0.00</td>\n",
       "      <td>1</td>\n",
       "      <td>1</td>\n",
       "      <td>1</td>\n",
       "      <td>101348.88</td>\n",
       "      <td>1</td>\n",
       "      <td>2.0</td>\n",
       "    </tr>\n",
       "    <tr>\n",
       "      <th>1</th>\n",
       "      <td>2</td>\n",
       "      <td>15647311</td>\n",
       "      <td>608</td>\n",
       "      <td>Spain</td>\n",
       "      <td>Female</td>\n",
       "      <td>41</td>\n",
       "      <td>1.0</td>\n",
       "      <td>83807.86</td>\n",
       "      <td>1</td>\n",
       "      <td>0</td>\n",
       "      <td>1</td>\n",
       "      <td>112542.58</td>\n",
       "      <td>0</td>\n",
       "      <td>1.0</td>\n",
       "    </tr>\n",
       "    <tr>\n",
       "      <th>2</th>\n",
       "      <td>3</td>\n",
       "      <td>15619304</td>\n",
       "      <td>502</td>\n",
       "      <td>France</td>\n",
       "      <td>Female</td>\n",
       "      <td>42</td>\n",
       "      <td>8.0</td>\n",
       "      <td>159660.80</td>\n",
       "      <td>3</td>\n",
       "      <td>1</td>\n",
       "      <td>0</td>\n",
       "      <td>113931.57</td>\n",
       "      <td>1</td>\n",
       "      <td>8.0</td>\n",
       "    </tr>\n",
       "    <tr>\n",
       "      <th>3</th>\n",
       "      <td>4</td>\n",
       "      <td>15701354</td>\n",
       "      <td>699</td>\n",
       "      <td>France</td>\n",
       "      <td>Female</td>\n",
       "      <td>39</td>\n",
       "      <td>1.0</td>\n",
       "      <td>0.00</td>\n",
       "      <td>2</td>\n",
       "      <td>0</td>\n",
       "      <td>0</td>\n",
       "      <td>93826.63</td>\n",
       "      <td>0</td>\n",
       "      <td>1.0</td>\n",
       "    </tr>\n",
       "    <tr>\n",
       "      <th>4</th>\n",
       "      <td>5</td>\n",
       "      <td>15737888</td>\n",
       "      <td>850</td>\n",
       "      <td>Spain</td>\n",
       "      <td>Female</td>\n",
       "      <td>43</td>\n",
       "      <td>2.0</td>\n",
       "      <td>125510.82</td>\n",
       "      <td>1</td>\n",
       "      <td>1</td>\n",
       "      <td>1</td>\n",
       "      <td>79084.10</td>\n",
       "      <td>0</td>\n",
       "      <td>2.0</td>\n",
       "    </tr>\n",
       "    <tr>\n",
       "      <th>5</th>\n",
       "      <td>6</td>\n",
       "      <td>15574012</td>\n",
       "      <td>645</td>\n",
       "      <td>Spain</td>\n",
       "      <td>Male</td>\n",
       "      <td>44</td>\n",
       "      <td>8.0</td>\n",
       "      <td>113755.78</td>\n",
       "      <td>2</td>\n",
       "      <td>1</td>\n",
       "      <td>0</td>\n",
       "      <td>149756.71</td>\n",
       "      <td>1</td>\n",
       "      <td>8.0</td>\n",
       "    </tr>\n",
       "    <tr>\n",
       "      <th>6</th>\n",
       "      <td>7</td>\n",
       "      <td>15592531</td>\n",
       "      <td>822</td>\n",
       "      <td>France</td>\n",
       "      <td>Male</td>\n",
       "      <td>50</td>\n",
       "      <td>7.0</td>\n",
       "      <td>0.00</td>\n",
       "      <td>2</td>\n",
       "      <td>1</td>\n",
       "      <td>1</td>\n",
       "      <td>10062.80</td>\n",
       "      <td>0</td>\n",
       "      <td>7.0</td>\n",
       "    </tr>\n",
       "    <tr>\n",
       "      <th>7</th>\n",
       "      <td>8</td>\n",
       "      <td>15656148</td>\n",
       "      <td>376</td>\n",
       "      <td>Germany</td>\n",
       "      <td>Female</td>\n",
       "      <td>29</td>\n",
       "      <td>4.0</td>\n",
       "      <td>115046.74</td>\n",
       "      <td>4</td>\n",
       "      <td>1</td>\n",
       "      <td>0</td>\n",
       "      <td>119346.88</td>\n",
       "      <td>1</td>\n",
       "      <td>4.0</td>\n",
       "    </tr>\n",
       "    <tr>\n",
       "      <th>8</th>\n",
       "      <td>9</td>\n",
       "      <td>15792365</td>\n",
       "      <td>501</td>\n",
       "      <td>France</td>\n",
       "      <td>Male</td>\n",
       "      <td>44</td>\n",
       "      <td>4.0</td>\n",
       "      <td>142051.07</td>\n",
       "      <td>2</td>\n",
       "      <td>0</td>\n",
       "      <td>1</td>\n",
       "      <td>74940.50</td>\n",
       "      <td>0</td>\n",
       "      <td>4.0</td>\n",
       "    </tr>\n",
       "    <tr>\n",
       "      <th>9</th>\n",
       "      <td>10</td>\n",
       "      <td>15592389</td>\n",
       "      <td>684</td>\n",
       "      <td>France</td>\n",
       "      <td>Male</td>\n",
       "      <td>27</td>\n",
       "      <td>2.0</td>\n",
       "      <td>134603.88</td>\n",
       "      <td>1</td>\n",
       "      <td>1</td>\n",
       "      <td>1</td>\n",
       "      <td>71725.73</td>\n",
       "      <td>0</td>\n",
       "      <td>2.0</td>\n",
       "    </tr>\n",
       "  </tbody>\n",
       "</table>\n",
       "</div>"
      ],
      "text/plain": [
       "   rownumber  customerid  creditscore geography  gender  age  tenure  \\\n",
       "0          1    15634602          619    France  Female   42     2.0   \n",
       "1          2    15647311          608     Spain  Female   41     1.0   \n",
       "2          3    15619304          502    France  Female   42     8.0   \n",
       "3          4    15701354          699    France  Female   39     1.0   \n",
       "4          5    15737888          850     Spain  Female   43     2.0   \n",
       "5          6    15574012          645     Spain    Male   44     8.0   \n",
       "6          7    15592531          822    France    Male   50     7.0   \n",
       "7          8    15656148          376   Germany  Female   29     4.0   \n",
       "8          9    15792365          501    France    Male   44     4.0   \n",
       "9         10    15592389          684    France    Male   27     2.0   \n",
       "\n",
       "     balance  numofproducts  hascrcard  isactivemember  estimatedsalary  \\\n",
       "0       0.00              1          1               1        101348.88   \n",
       "1   83807.86              1          0               1        112542.58   \n",
       "2  159660.80              3          1               0        113931.57   \n",
       "3       0.00              2          0               0         93826.63   \n",
       "4  125510.82              1          1               1         79084.10   \n",
       "5  113755.78              2          1               0        149756.71   \n",
       "6       0.00              2          1               1         10062.80   \n",
       "7  115046.74              4          1               0        119346.88   \n",
       "8  142051.07              2          0               1         74940.50   \n",
       "9  134603.88              1          1               1         71725.73   \n",
       "\n",
       "   exited  tenure_filled  \n",
       "0       1            2.0  \n",
       "1       0            1.0  \n",
       "2       1            8.0  \n",
       "3       0            1.0  \n",
       "4       0            2.0  \n",
       "5       1            8.0  \n",
       "6       0            7.0  \n",
       "7       1            4.0  \n",
       "8       0            4.0  \n",
       "9       0            2.0  "
      ]
     },
     "execution_count": 24,
     "metadata": {},
     "output_type": "execute_result"
    }
   ],
   "source": [
    "df.head(10)"
   ]
  },
  {
   "cell_type": "markdown",
   "id": "18fd3e38",
   "metadata": {},
   "source": [
    "### Addressing the Categorical Features (`geogaphy` , `gender`)\n",
    "\n",
    "Since `geography` and `gender` are categorical columns, we need to convert them into numeric values for logistic regression.  I will use use one-hot encoding to do this. "
   ]
  },
  {
   "cell_type": "code",
   "execution_count": 25,
   "id": "9acdb5ca",
   "metadata": {
    "scrolled": false
   },
   "outputs": [
    {
     "data": {
      "text/plain": [
       "gender\n",
       "Male      5457\n",
       "Female    4543\n",
       "Name: count, dtype: int64"
      ]
     },
     "execution_count": 25,
     "metadata": {},
     "output_type": "execute_result"
    }
   ],
   "source": [
    "# Investigating the gender column\n",
    "df['gender'].value_counts()"
   ]
  },
  {
   "cell_type": "code",
   "execution_count": 26,
   "id": "98748639",
   "metadata": {
    "scrolled": false
   },
   "outputs": [
    {
     "data": {
      "text/plain": [
       "geography\n",
       "France     5014\n",
       "Germany    2509\n",
       "Spain      2477\n",
       "Name: count, dtype: int64"
      ]
     },
     "execution_count": 26,
     "metadata": {},
     "output_type": "execute_result"
    }
   ],
   "source": [
    "# Investigating `geography`\n",
    "df['geography'].value_counts()"
   ]
  },
  {
   "cell_type": "code",
   "execution_count": 27,
   "id": "6c4fcc5c",
   "metadata": {},
   "outputs": [],
   "source": [
    "# Use one-hot encoding for `gender`\n",
    "data = pd.get_dummies(df, columns=['gender', 'geography'], drop_first=True)"
   ]
  },
  {
   "cell_type": "markdown",
   "id": "b9017b97",
   "metadata": {},
   "source": [
    "### Addressing the NaN values in the `tenure` column\n",
    "\n",
    "Since this ML classifier is unable to work with NaN values, the NaN values in the `tenure` column have been replaced with the median in the new `tenure_filled` column. \n"
   ]
  },
  {
   "cell_type": "code",
   "execution_count": 28,
   "id": "a7b1d62c",
   "metadata": {},
   "outputs": [],
   "source": [
    "# Dropping the tenure column to use 'tenure_filled'\n",
    "data = data.drop('tenure', axis=1)"
   ]
  },
  {
   "cell_type": "markdown",
   "id": "73cbc446",
   "metadata": {},
   "source": [
    "## Summary Data Preparation and Feature Processing\n",
    "\n",
    "The dataset consists of both numerical and categorical features. Numerical features were checked for missing values, and imputation was performed where necessary. Categorical features were encoded using one-hot encoding to ensure they are suitable for model input."
   ]
  },
  {
   "cell_type": "markdown",
   "id": "19400670",
   "metadata": {},
   "source": [
    "# Model Experiments\n",
    "\n",
    "In this section, you'll find details regarding the experiments conducted using three distinct machine learning models: \n",
    "\n",
    "- Logistic Regression, \n",
    "- Decision Tree, \n",
    "- and Random Forest. \n",
    "\n",
    "We'll experiment with different techniques to achieve our goal identifying a model and parameters with a minimum F1 Score 0.59 and ensure that the model could effectively identify customers at risk of leaving."
   ]
  },
  {
   "cell_type": "markdown",
   "id": "c92d33a2",
   "metadata": {},
   "source": [
    "## Define the Target and Feature\n",
    "\n",
    "- **Target Variable:** `exited` (0 or 1)\n",
    "- **Features:** Excludes the `exited` column"
   ]
  },
  {
   "cell_type": "code",
   "execution_count": 29,
   "id": "61926c24",
   "metadata": {},
   "outputs": [],
   "source": [
    "# Define the target and features\n",
    "\n",
    "target = data['exited']\n",
    "\n",
    "features = data.drop('exited', axis=1)"
   ]
  },
  {
   "cell_type": "code",
   "execution_count": 30,
   "id": "1d8d2da0",
   "metadata": {
    "scrolled": true
   },
   "outputs": [
    {
     "data": {
      "text/html": [
       "<div>\n",
       "<style scoped>\n",
       "    .dataframe tbody tr th:only-of-type {\n",
       "        vertical-align: middle;\n",
       "    }\n",
       "\n",
       "    .dataframe tbody tr th {\n",
       "        vertical-align: top;\n",
       "    }\n",
       "\n",
       "    .dataframe thead th {\n",
       "        text-align: right;\n",
       "    }\n",
       "</style>\n",
       "<table border=\"1\" class=\"dataframe\">\n",
       "  <thead>\n",
       "    <tr style=\"text-align: right;\">\n",
       "      <th></th>\n",
       "      <th>rownumber</th>\n",
       "      <th>customerid</th>\n",
       "      <th>creditscore</th>\n",
       "      <th>age</th>\n",
       "      <th>balance</th>\n",
       "      <th>numofproducts</th>\n",
       "      <th>hascrcard</th>\n",
       "      <th>isactivemember</th>\n",
       "      <th>estimatedsalary</th>\n",
       "      <th>exited</th>\n",
       "      <th>tenure_filled</th>\n",
       "      <th>gender_Male</th>\n",
       "      <th>geography_Germany</th>\n",
       "      <th>geography_Spain</th>\n",
       "    </tr>\n",
       "  </thead>\n",
       "  <tbody>\n",
       "    <tr>\n",
       "      <th>0</th>\n",
       "      <td>1</td>\n",
       "      <td>15634602</td>\n",
       "      <td>619</td>\n",
       "      <td>42</td>\n",
       "      <td>0.00</td>\n",
       "      <td>1</td>\n",
       "      <td>1</td>\n",
       "      <td>1</td>\n",
       "      <td>101348.88</td>\n",
       "      <td>1</td>\n",
       "      <td>2.0</td>\n",
       "      <td>False</td>\n",
       "      <td>False</td>\n",
       "      <td>False</td>\n",
       "    </tr>\n",
       "    <tr>\n",
       "      <th>1</th>\n",
       "      <td>2</td>\n",
       "      <td>15647311</td>\n",
       "      <td>608</td>\n",
       "      <td>41</td>\n",
       "      <td>83807.86</td>\n",
       "      <td>1</td>\n",
       "      <td>0</td>\n",
       "      <td>1</td>\n",
       "      <td>112542.58</td>\n",
       "      <td>0</td>\n",
       "      <td>1.0</td>\n",
       "      <td>False</td>\n",
       "      <td>False</td>\n",
       "      <td>True</td>\n",
       "    </tr>\n",
       "    <tr>\n",
       "      <th>2</th>\n",
       "      <td>3</td>\n",
       "      <td>15619304</td>\n",
       "      <td>502</td>\n",
       "      <td>42</td>\n",
       "      <td>159660.80</td>\n",
       "      <td>3</td>\n",
       "      <td>1</td>\n",
       "      <td>0</td>\n",
       "      <td>113931.57</td>\n",
       "      <td>1</td>\n",
       "      <td>8.0</td>\n",
       "      <td>False</td>\n",
       "      <td>False</td>\n",
       "      <td>False</td>\n",
       "    </tr>\n",
       "    <tr>\n",
       "      <th>3</th>\n",
       "      <td>4</td>\n",
       "      <td>15701354</td>\n",
       "      <td>699</td>\n",
       "      <td>39</td>\n",
       "      <td>0.00</td>\n",
       "      <td>2</td>\n",
       "      <td>0</td>\n",
       "      <td>0</td>\n",
       "      <td>93826.63</td>\n",
       "      <td>0</td>\n",
       "      <td>1.0</td>\n",
       "      <td>False</td>\n",
       "      <td>False</td>\n",
       "      <td>False</td>\n",
       "    </tr>\n",
       "    <tr>\n",
       "      <th>4</th>\n",
       "      <td>5</td>\n",
       "      <td>15737888</td>\n",
       "      <td>850</td>\n",
       "      <td>43</td>\n",
       "      <td>125510.82</td>\n",
       "      <td>1</td>\n",
       "      <td>1</td>\n",
       "      <td>1</td>\n",
       "      <td>79084.10</td>\n",
       "      <td>0</td>\n",
       "      <td>2.0</td>\n",
       "      <td>False</td>\n",
       "      <td>False</td>\n",
       "      <td>True</td>\n",
       "    </tr>\n",
       "  </tbody>\n",
       "</table>\n",
       "</div>"
      ],
      "text/plain": [
       "   rownumber  customerid  creditscore  age    balance  numofproducts  \\\n",
       "0          1    15634602          619   42       0.00              1   \n",
       "1          2    15647311          608   41   83807.86              1   \n",
       "2          3    15619304          502   42  159660.80              3   \n",
       "3          4    15701354          699   39       0.00              2   \n",
       "4          5    15737888          850   43  125510.82              1   \n",
       "\n",
       "   hascrcard  isactivemember  estimatedsalary  exited  tenure_filled  \\\n",
       "0          1               1        101348.88       1            2.0   \n",
       "1          0               1        112542.58       0            1.0   \n",
       "2          1               0        113931.57       1            8.0   \n",
       "3          0               0         93826.63       0            1.0   \n",
       "4          1               1         79084.10       0            2.0   \n",
       "\n",
       "   gender_Male  geography_Germany  geography_Spain  \n",
       "0        False              False            False  \n",
       "1        False              False             True  \n",
       "2        False              False            False  \n",
       "3        False              False            False  \n",
       "4        False              False             True  "
      ]
     },
     "execution_count": 30,
     "metadata": {},
     "output_type": "execute_result"
    }
   ],
   "source": [
    "data.head()"
   ]
  },
  {
   "cell_type": "markdown",
   "id": "de78200b",
   "metadata": {},
   "source": [
    "## Split the Data"
   ]
  },
  {
   "cell_type": "code",
   "execution_count": 31,
   "id": "7aa5056f",
   "metadata": {},
   "outputs": [
    {
     "name": "stdout",
     "output_type": "stream",
     "text": [
      "Training set: (6000, 13), (6000,)\n",
      "Validation set: (2000, 13), (2000,)\n",
      "Test set: (2000, 13), (2000,)\n"
     ]
    }
   ],
   "source": [
    "# First split into training + validation and test sets (80% training/validation, 20% testing)\n",
    "features_train_val, features_test, target_train_val, target_test = train_test_split(\n",
    "    features, target, test_size=0.2, random_state=12345\n",
    ")\n",
    "\n",
    "# Then split the training + validation set into training (60%) and validation (20%) sets\n",
    "features_train, features_valid, target_train, target_valid = train_test_split(\n",
    "    features_train_val, target_train_val, test_size=0.25, random_state=12345\n",
    ")\n",
    "\n",
    "# Output the shapes to verify\n",
    "print(f\"Training set: {features_train.shape}, {target_train.shape}\")\n",
    "print(f\"Validation set: {features_valid.shape}, {target_valid.shape}\")\n",
    "print(f\"Test set: {features_test.shape}, {target_test.shape}\")"
   ]
  },
  {
   "cell_type": "markdown",
   "id": "7ad11ae0",
   "metadata": {},
   "source": [
    "## Logistic Regression"
   ]
  },
  {
   "cell_type": "code",
   "execution_count": 32,
   "id": "9bb8e7a5",
   "metadata": {
    "scrolled": true
   },
   "outputs": [
    {
     "name": "stdout",
     "output_type": "stream",
     "text": [
      "Validation F1 Score of Initial Logistic Regression Model: 0.000\n",
      "Validation AUC-ROC of Initial Logistic Regression Model: 0.550\n",
      "[[1609    0]\n",
      " [ 391    0]]\n"
     ]
    },
    {
     "data": {
      "image/png": "[encoded data removed]",
      "text/plain": [
       "<Figure size 640x480 with 2 Axes>"
      ]
     },
     "metadata": {},
     "output_type": "display_data"
    }
   ],
   "source": [
    "# Initialize the Logistic Regression model\n",
    "lr_model = LogisticRegression(random_state=12345, solver='liblinear')\n",
    "\n",
    "\n",
    "# Make a copy of features_train, target_train for logorithmic regression\n",
    "features_train_lr = features_train.copy()\n",
    "target_train_lr = target_train.copy()\n",
    "\n",
    "# Train the model on the training data\n",
    "lr_model.fit(features_train_lr, target_train_lr)\n",
    "\n",
    "# Make predictions on the training set\n",
    "lr_pred = lr_model.predict(features_valid)\n",
    "\n",
    "\n",
    "# Evaluate metrics\n",
    "\n",
    "# Calculate F1 score on the validation set\n",
    "f1_valid = f1_score(target_valid, lr_pred)\n",
    "print(f\"Validation F1 Score of Initial Logistic Regression Model: {f1_valid:.3f}\")\n",
    "\n",
    "# Predict probabilities for ROC-AUC calculation\n",
    "target_lr_probs = lr_model.predict_proba(features_valid)[:, 1]\n",
    "\n",
    "# Calculate AUC-ROC on validation set\n",
    "roc_auc_valid = roc_auc_score(target_valid, target_lr_probs)\n",
    "print(f\"Validation AUC-ROC of Initial Logistic Regression Model: {roc_auc_valid:.3f}\")\n",
    "\n",
    "# Confusion Matrix for the logistic regression model\n",
    "cm_lr = confusion_matrix(target_valid, lr_pred)\n",
    "ConfusionMatrixDisplay(cm_lr).plot()\n",
    "\n",
    "print(cm_lr)"
   ]
  },
  {
   "cell_type": "markdown",
   "id": "cdad2029",
   "metadata": {},
   "source": [
    "### **Values Interpretation**\n",
    "- 1609 → True Negatives (TN) (Correctly predicted \"No churn\")\n",
    "- 0 → False Positives (FP) (Incorrectly predicted \"Churn\" when they didn’t)\n",
    "- 391 → False Negatives (FN) (Incorrectly predicted \"No churn\" when they actually churned)\n",
    "- 0 → True Positives (TP) (Correctly predicted \"Churn\")\n",
    "\n",
    "**Why is F1 score 0.000?** This model only predicts one class (all \"no churn\"), and since TP = 0, Precision = 0, Recall = 0. \n",
    "\n",
    "F1 = 2 × (Precision × Recall) / (Precision + Recall), and with 0 TP, both precision and recall are 0).\n",
    "\n",
    "This shows a significant imbalance."
   ]
  },
  {
   "cell_type": "markdown",
   "id": "9526ab7e",
   "metadata": {},
   "source": [
    "### Improving the Logisitic Regression Model with class_weight\n",
    "\n",
    "To address the class imbalance in the logistic regression model, I'll give more importance to the churners. \n",
    "\n",
    "Scikit-learn's LogisticRegression has a `class_weight='balanced'` parameter to handle this automatically."
   ]
  },
  {
   "cell_type": "code",
   "execution_count": 33,
   "id": "a01024b1",
   "metadata": {
    "scrolled": false
   },
   "outputs": [
    {
     "name": "stdout",
     "output_type": "stream",
     "text": [
      "Validation F1 Score of Logistic Regression Model (Balanced): 0.480\n",
      "Validation AUC-ROC of Logistic Regression Model (Balanced): 0.756\n"
     ]
    }
   ],
   "source": [
    "# Initialize the Logistic Regression model with class_weight balanced\n",
    "lr_model_balanced = LogisticRegression(random_state=12345, solver='liblinear', class_weight='balanced')\n",
    "\n",
    "\n",
    "# Train the model on the training data\n",
    "lr_model_balanced.fit(features_train_lr, target_train_lr)\n",
    "\n",
    "\n",
    "# Predict on the validation set\n",
    "lr_pred_balanced = lr_model_balanced.predict(features_valid)\n",
    "\n",
    "\n",
    "# Calculate F1 score on the validation set\n",
    "f1_valid_balanced = f1_score(target_valid, lr_pred_balanced)\n",
    "print(f\"Validation F1 Score of Logistic Regression Model (Balanced): {f1_valid_balanced:.3f}\")\n",
    "\n",
    "# Predict probabilities for ROC-AUC calculation\n",
    "probabilities_valid_balanced = lr_model_balanced.predict_proba(features_valid)[:, 1]\n",
    "\n",
    "# Calculate AUC-ROC on the validation set\n",
    "roc_auc_balanced= roc_auc_score(target_valid, probabilities_valid_balanced)\n",
    "print(f\"Validation AUC-ROC of Logistic Regression Model (Balanced): {roc_auc_balanced:.3f}\")"
   ]
  },
  {
   "cell_type": "markdown",
   "id": "b4164812",
   "metadata": {},
   "source": [
    "This is better, but still showing imbalance. Let's see what happens with another method. "
   ]
  },
  {
   "cell_type": "markdown",
   "id": "f9eb3ace",
   "metadata": {},
   "source": [
    "### Further Improving the Logistic Regression Model"
   ]
  },
  {
   "cell_type": "code",
   "execution_count": 34,
   "id": "7fa69af0",
   "metadata": {},
   "outputs": [],
   "source": [
    "# Combining Upsampling with Threshold Adjustment\n",
    "\n",
    "def upsample_data(features, target):\n",
    "    \"\"\"Performs upsampling to balance classes.\"\"\"\n",
    "    train_data = features.copy()\n",
    "    train_data['target'] = target.values\n",
    "\n",
    "    # Separate majority and minority classes\n",
    "    majority_class = train_data[train_data['target'] == 0]\n",
    "    minority_class = train_data[train_data['target'] == 1]\n",
    "\n",
    "    # Upsample the minority class\n",
    "    minority_upsampled = resample(\n",
    "        minority_class,\n",
    "        replace=True,  \n",
    "        n_samples=len(majority_class),  \n",
    "        random_state=123  \n",
    "    )\n",
    "\n",
    "    # Combine majority class with upsampled minority class\n",
    "    upsampled = pd.concat([majority_class, minority_upsampled])\n",
    "\n",
    "    # Separate features and target again\n",
    "    return upsampled.drop('target', axis=1), upsampled['target']"
   ]
  },
  {
   "cell_type": "code",
   "execution_count": 35,
   "id": "abd60736",
   "metadata": {},
   "outputs": [
    {
     "name": "stdout",
     "output_type": "stream",
     "text": [
      "Best Threshold: 0.48 | Best F1 Score: 0.465\n",
      "Final Validation F1 Score: 0.465\n",
      "Final Validation AUC-ROC: 0.733\n"
     ]
    },
    {
     "data": {
      "image/png": "[encoded data removed]",
      "text/plain": [
       "<Figure size 640x480 with 1 Axes>"
      ]
     },
     "metadata": {},
     "output_type": "display_data"
    },
    {
     "data": {
      "image/png": "[encoded data removed]",
      "text/plain": [
       "<Figure size 640x480 with 2 Axes>"
      ]
     },
     "metadata": {},
     "output_type": "display_data"
    },
    {
     "name": "stdout",
     "output_type": "stream",
     "text": [
      "[[1101  508]\n",
      " [ 119  272]]\n"
     ]
    }
   ],
   "source": [
    "# 1. Upsample data\n",
    "features_upsampled, target_upsampled = upsample_data(features_train_lr, target_train_lr)\n",
    "\n",
    "# 2. Train and evaluate the model\n",
    "# Initialize and train Logistic Regression\n",
    "lr_model = LogisticRegression(random_state=12345, solver='liblinear', class_weight='balanced')\n",
    "lr_model.fit(features_upsampled, target_upsampled)\n",
    "\n",
    "# Predict probabilities for the validation set\n",
    "probabilities_valid_lr = lr_model.predict_proba(features_valid)[:, 1]\n",
    "\n",
    "# 3. Find the best threshold \n",
    "thresholds = []\n",
    "f1_scores = []\n",
    "\n",
    "# Use a suitable range for thresholds\n",
    "for threshold in np.arange(0, 1.0, 0.02):\n",
    "    predicted_valid = (probabilities_valid_lr > threshold).astype(int)  # Convert boolean to int\n",
    "    f1 = f1_score(target_valid, predicted_valid, zero_division=0)\n",
    "    \n",
    "    # Store results\n",
    "    thresholds.append(threshold)\n",
    "    f1_scores.append(f1)\n",
    "    \n",
    "    \n",
    "# Best F1 Score and corresponding threshold\n",
    "best_f1 = max(f1_scores)\n",
    "best_f1_index = f1_scores.index(best_f1)\n",
    "best_threshold = thresholds[best_f1_index]\n",
    "\n",
    "print(f\"Best Threshold: {best_threshold:.2f} | Best F1 Score: {best_f1:.3f}\")\n",
    "\n",
    "#4. Evaluate Final Model Performance\n",
    "predicted_best = (probabilities_valid_lr > best_threshold).astype(int)\n",
    "\n",
    "# Calculate final metrics\n",
    "f1_valid_final = f1_score(target_valid, predicted_best)\n",
    "roc_auc_final = roc_auc_score(target_valid, probabilities_valid_lr)\n",
    "\n",
    "print(f\"Final Validation F1 Score: {f1_valid_final:.3f}\")\n",
    "print(f\"Final Validation AUC-ROC: {roc_auc_final:.3f}\")\n",
    "\n",
    "# 5. Plot the results\n",
    "\n",
    "# Plot F1 Score vs. Threshold\n",
    "plt.plot(thresholds, f1_scores, marker='o')\n",
    "plt.xlabel('Threshold')\n",
    "plt.ylabel('F1 Score')\n",
    "plt.title('F1 Score vs. Threshold')\n",
    "plt.show()\n",
    "\n",
    "# Display Confusion Matrix\n",
    "cm_lr_final = confusion_matrix(target_valid, predicted_best)\n",
    "ConfusionMatrixDisplay(cm_lr_final).plot()\n",
    "plt.show()\n",
    "\n",
    "print(cm_lr_final)"
   ]
  },
  {
   "cell_type": "markdown",
   "id": "b338ad14",
   "metadata": {},
   "source": [
    "### ROC Curve of the Logistic Regression Model (threshold applied)"
   ]
  },
  {
   "cell_type": "code",
   "execution_count": 36,
   "id": "64dc8e42",
   "metadata": {
    "scrolled": false
   },
   "outputs": [
    {
     "data": {
      "image/png": "[encoded data removed]",
      "text/plain": [
       "<Figure size 640x480 with 1 Axes>"
      ]
     },
     "metadata": {},
     "output_type": "display_data"
    }
   ],
   "source": [
    "fpr_lr, tpr_lr, thresholds = roc_curve(target_valid, probabilities_valid_lr)\n",
    "\n",
    "plt.figure()\n",
    "\n",
    "# < plot the graph >\n",
    "plt.plot(fpr_lr, tpr_lr)\n",
    "\n",
    "# ROC curve for random model (looks like a straight line)\n",
    "plt.plot([0, 1], [0, 1], linestyle='--')\n",
    "\n",
    "# < use the functions plt.xlim() and plt.ylim() to\n",
    "#   set the boundary for the axes from 0 to 1 >\n",
    "plt.xlim([0.0, 1.0])\n",
    "plt.ylim([0.0, 1.0])\n",
    "\n",
    "# < use the functions plt.xlabel() and plt.ylabel() to\n",
    "#   name the axes \"False Positive Rate\" and \"True Positive Rate\" >\n",
    "plt.xlabel('False Positive Rate')\n",
    "plt.ylabel('True Positive Rate')\n",
    "\n",
    "# < add the heading \"ROC curve\" with the function plt.title() >\n",
    "plt.title('ROC Curve: Logistic Regression (Balanced & Threshold Adjusted Model)')\n",
    "plt.show()"
   ]
  },
  {
   "cell_type": "markdown",
   "id": "1188548f",
   "metadata": {},
   "source": [
    "### Conclusions for the Logistic Regression Model\n",
    "\n",
    "**Summary of Findings**\n",
    "\n",
    "\n",
    "When training the initial initial Logistics Regression Model, \n",
    "\n",
    "- Validation F1 Score of Initial Logistic Regression Model: 0.000\n",
    "- Validation AUC-ROC of Initial Logistic Regression Model: 0.550\n",
    "\n",
    "I thought that F1 score was startling, so I investigated the F1 score using a confirmation matrix and there was confirmation of the imbalance we initially discovered. I learned this was confirmation that their is a strong imbalance in the dataset. \n",
    "\n",
    "\n",
    "To address the known imbalance, I tried balancing the model with `class_weight`.\n",
    "\n",
    "To further address the imbalance I tried combining upsampling with threshold adjustment. I determined that the best threshold value would be:\n",
    "\n",
    "Best Threshold: 0.48 | Best F1 Score: 0.469\n",
    "\n",
    "Addressing the imbalance by using a threshold value slighly improves the F1 score. \n",
    "\n",
    "I then evaluated the model with the best threshold data. \n",
    "\n",
    "\n",
    "**Conclusion**\n",
    "\n",
    "Even after trying to address the imbalance, this model does not meet our criteria for an F1 Score of 0.59 or higher. "
   ]
  },
  {
   "cell_type": "markdown",
   "id": "a85bc4dd",
   "metadata": {},
   "source": [
    "##  Decision Tree"
   ]
  },
  {
   "cell_type": "markdown",
   "id": "1ce01a99",
   "metadata": {},
   "source": [
    "### Initial Decision Tree Model"
   ]
  },
  {
   "cell_type": "code",
   "execution_count": 37,
   "id": "e9225178",
   "metadata": {},
   "outputs": [
    {
     "name": "stdout",
     "output_type": "stream",
     "text": [
      "Fitting 5 folds for each of 96 candidates, totalling 480 fits\n",
      "Best F1 Score (Cross-Validation): 0.5524\n",
      "Best Hyperparameters: {'max_depth': 7, 'min_samples_leaf': 5, 'min_samples_split': 2}\n",
      "Validation F1 Score: 0.5441\n"
     ]
    }
   ],
   "source": [
    "# 1: Define Hyperparameter Grid\n",
    "param_grid = {\n",
    "    'max_depth': [3, 5, 7, 10, 15, 20],\n",
    "    'min_samples_split': [2, 5, 10, 20],\n",
    "    'min_samples_leaf': [1, 3, 5, 10]\n",
    "}\n",
    "\n",
    "# Initialize the model\n",
    "dt_model = DecisionTreeClassifier(class_weight='balanced', random_state=12345)\n",
    "\n",
    "# Define Scoring Metric\n",
    "scorer = make_scorer(f1_score)  # Uses F1 Score as optimization metric\n",
    "\n",
    "# Run GridSearchCV\n",
    "grid_search = GridSearchCV(dt_model, param_grid, scoring=scorer, cv=5, n_jobs=-1, verbose=1)\n",
    "grid_search.fit(features_train, target_train)\n",
    "\n",
    "# Extract Best Model & Parameters\n",
    "best_dt_model = grid_search.best_estimator_\n",
    "best_params_dt = grid_search.best_params_\n",
    "best_f1_dt = grid_search.best_score_\n",
    "\n",
    "# Results\n",
    "print(f\"Best F1 Score (Cross-Validation): {best_f1_dt:.4f}\")\n",
    "print(f\"Best Hyperparameters: {best_params_dt}\")\n",
    "\n",
    "# Evaluate on Validation Set\n",
    "pred_valid_dt = best_dt_model.predict(features_valid)\n",
    "f1_valid_dt = f1_score(target_valid, pred_valid_dt)\n",
    "\n",
    "print(f\"Validation F1 Score: {f1_valid_dt:.4f}\")\n"
   ]
  },
  {
   "cell_type": "markdown",
   "id": "a4abca97",
   "metadata": {},
   "source": [
    "### Plotting the Results"
   ]
  },
  {
   "cell_type": "code",
   "execution_count": 38,
   "id": "b86cdb37",
   "metadata": {},
   "outputs": [
    {
     "data": {
      "image/png": "[encoded data removed]",
      "text/plain": [
       "<Figure size 640x480 with 2 Axes>"
      ]
     },
     "metadata": {},
     "output_type": "display_data"
    },
    {
     "name": "stdout",
     "output_type": "stream",
     "text": [
      "[[1240  369]\n",
      " [ 107  284]]\n"
     ]
    },
    {
     "data": {
      "image/png": "[encoded data removed]",
      "text/plain": [
       "<Figure size 640x480 with 1 Axes>"
      ]
     },
     "metadata": {},
     "output_type": "display_data"
    }
   ],
   "source": [
    "# Confusion matrix \n",
    "cm_tree = confusion_matrix(target_valid, best_dt_model.predict(features_valid))\n",
    "ConfusionMatrixDisplay(cm_tree).plot()\n",
    "plt.show()\n",
    "\n",
    "print(cm_tree)\n",
    "\n",
    "\n",
    "# ROC Curve for the Decision Tree\n",
    "# Get probability scores for the positive class (1)\n",
    "probabilities_valid_dt = best_dt_model.predict_proba(features_valid)[:, 1]\n",
    "\n",
    "# Compute the ROC curve\n",
    "fpr_dt, tpr_dt, thresholds = roc_curve(target_valid, probabilities_valid_dt)\n",
    "\n",
    "plt.figure()\n",
    "plt.plot(fpr_dt, tpr_dt)\n",
    "plt.plot([0, 1], [0, 1], linestyle='--') # ROC curve for random model (looks like a straight line)\n",
    "\n",
    "# < use the functions plt.xlim() and plt.ylim() to\n",
    "#   set the boundary for the axes from 0 to 1 >\n",
    "plt.xlim([0.0, 1.0])\n",
    "plt.ylim([0.0, 1.0])\n",
    "plt.xlabel('False Positive Rate')\n",
    "plt.ylabel('True Positive Rate')\n",
    "plt.title('ROC Curve of Trained Decision Tree Model')\n",
    "plt.show()"
   ]
  },
  {
   "cell_type": "markdown",
   "id": "a615512a",
   "metadata": {},
   "source": [
    "### Conclusions for the Decision Tree Model"
   ]
  },
  {
   "cell_type": "markdown",
   "id": "5884541e",
   "metadata": {},
   "source": [
    "**Summary of Findings**\n",
    "\n",
    "Validation Scores: The best Decision Tree model, selected through cross-validation, achieves an F1 score of 0.5532 on the validation set. This indicates that the model performs reasonably well on unseen data and is no longer overfitting. \n",
    "\n",
    "However, the model does not meet the required F1 score threshold of 0.59, suggesting that further improvements or a different model may be needed."
   ]
  },
  {
   "cell_type": "markdown",
   "id": "43203cc3",
   "metadata": {},
   "source": [
    "## Random Forest"
   ]
  },
  {
   "cell_type": "code",
   "execution_count": 39,
   "id": "336f9278",
   "metadata": {
    "scrolled": true
   },
   "outputs": [
    {
     "name": "stdout",
     "output_type": "stream",
     "text": [
      "Fitting 5 folds for each of 144 candidates, totalling 720 fits\n",
      "Best RF F1 Score (Cross-Validation): 0.7704\n",
      "Best RF Hyperparameters: {'max_depth': None, 'min_samples_leaf': 5, 'min_samples_split': 2, 'n_estimators': 150}\n",
      "Threshold 0.62 → F1 Score: 0.5864\n",
      "Threshold 0.62 → F1 Score: 0.5887\n",
      "Threshold 0.62 → F1 Score: 0.5902\n",
      "Threshold 0.62 → F1 Score: 0.5881\n",
      "Threshold 0.62 → F1 Score: 0.5826\n",
      "Threshold 0.62 → F1 Score: 0.5841\n",
      "Threshold 0.63 → F1 Score: 0.5838\n",
      "Threshold 0.63 → F1 Score: 0.5827\n",
      "Threshold 0.63 → F1 Score: 0.5789\n",
      "Threshold 0.63 → F1 Score: 0.5752\n",
      "Threshold 0.63 → F1 Score: 0.5760\n",
      "Best RF Threshold: 0.62, Best Adjusted RF F1 Score: 0.5902\n",
      "RF Validation F1 Score: 0.5902\n"
     ]
    }
   ],
   "source": [
    "### Step 1. Undersample the Majority Class\n",
    "train_data_rf = features_train.copy()\n",
    "train_data_rf['target'] = target_train.values\n",
    "\n",
    "# Separate majority and minority classes\n",
    "majority_class_rf = train_data_rf[train_data_rf['target'] == 0]\n",
    "minority_class_rf = train_data_rf[train_data_rf['target'] == 1]\n",
    "\n",
    "# Undersample the majority class\n",
    "majority_undersampled_rf = resample(\n",
    "    majority_class_rf, replace=False, \n",
    "    n_samples=len(minority_class_rf), random_state=12345\n",
    ")\n",
    "\n",
    "# Combine undersampled majority class with minority class\n",
    "undersampled_rf = pd.concat([majority_undersampled_rf, minority_class_rf])\n",
    "\n",
    "# Extract features and target again\n",
    "features_undersampled_rf = undersampled_rf.drop('target', axis=1)\n",
    "target_undersampled_rf = undersampled_rf['target']\n",
    "\n",
    "\n",
    "\n",
    "### Step 2. Define Hyperparameter Grid for Random Forest\n",
    "param_grid = {\n",
    "    'n_estimators': [50, 100, 150, 200],  # Number of trees\n",
    "    'max_depth': [5, 10, 15, None],  # Tree depth\n",
    "    'min_samples_split': [2, 5, 10],  # Min samples required to split\n",
    "    'min_samples_leaf': [1, 5, 10]  # Min samples per leaf\n",
    "}\n",
    "\n",
    "# Step 3. Initialize Random Forest Model\n",
    "rf_model = RandomForestClassifier(random_state=12345, class_weight=\"balanced\")\n",
    "\n",
    "# Step 4. Run GridSearchCV\n",
    "grid_search_rf = GridSearchCV(\n",
    "    rf_model, \n",
    "    param_grid,\n",
    "    scoring='f1', \n",
    "    cv=5, \n",
    "    n_jobs=-1, verbose=1\n",
    ")\n",
    "\n",
    "grid_search_rf.fit(features_undersampled_rf, target_undersampled_rf)\n",
    "\n",
    "### Step 5. Extract Best Model and Hyperparameters\n",
    "best_rf_model = grid_search_rf.best_estimator_\n",
    "best_rf_params = grid_search_rf.best_params_\n",
    "best_rf_f1 = grid_search_rf.best_score_\n",
    "\n",
    "print(f\"Best RF F1 Score (Cross-Validation): {best_rf_f1:.4f}\")\n",
    "print(f\"Best RF Hyperparameters: {best_rf_params}\")\n",
    "\n",
    "\n",
    "\n",
    "### Step 6. Evaluate on Validation Set\n",
    "probabilities_valid_rf = best_rf_model.predict_proba(features_valid)[:, 1]  # Get probability for churn (1)\n",
    "\n",
    "\n",
    "rf_valid_preds = best_rf_model.predict(features_valid)\n",
    "\n",
    "# Try different thresholds\n",
    "thresholds = np.arange(0.620, 0.630, 0.001)  # Smaller step size\n",
    "best_f1 = 0\n",
    "best_threshold = 0.62 # start with previous best\n",
    "\n",
    "for threshold in thresholds:\n",
    "    preds_adjusted = (probabilities_valid_rf > threshold).astype(int)  # Apply threshold to probabilities\n",
    "    f1_adjusted = f1_score(target_valid, preds_adjusted)\n",
    "\n",
    "    print(f\"Threshold {threshold:.2f} → F1 Score: {f1_adjusted:.4f}\")\n",
    "\n",
    "    if f1_adjusted > best_f1:\n",
    "        best_f1 = f1_adjusted\n",
    "        best_threshold = threshold\n",
    "\n",
    "print(f\"Best RF Threshold: {best_threshold:.2f}, Best Adjusted RF F1 Score: {best_f1:.4f}\")\n",
    "\n",
    "\n",
    "# Compute final validation scores\n",
    "rf_valid_preds_adjusted = (probabilities_valid_rf > best_threshold).astype(int)\n",
    "\n",
    "f1_valid_rf = f1_score(target_valid, rf_valid_preds_adjusted)\n",
    "roc_auc_valid_rf = roc_auc_score(target_valid, probabilities_valid_rf)\n",
    "\n",
    "# f1_valid_rf = f1_score(target_valid, rf_valid_preds)\n",
    "# roc_auc_valid_rf = roc_auc_score(target_valid, best_rf_model.predict_proba(features_valid)[:, 1])\n",
    "\n",
    "print(f\"RF Validation F1 Score: {f1_valid_rf:.4f}\")\n",
    "\n",
    "\n"
   ]
  },
  {
   "cell_type": "code",
   "execution_count": 40,
   "id": "95cda1b0",
   "metadata": {},
   "outputs": [
    {
     "data": {
      "image/png": "[encoded data removed]",
      "text/plain": [
       "<Figure size 640x480 with 2 Axes>"
      ]
     },
     "metadata": {},
     "output_type": "display_data"
    },
    {
     "data": {
      "image/png": "[encoded data removed]",
      "text/plain": [
       "<Figure size 640x480 with 1 Axes>"
      ]
     },
     "metadata": {},
     "output_type": "display_data"
    }
   ],
   "source": [
    "### Step 7. Visualize Results\n",
    "\n",
    "#  Confusion Matrix\n",
    "cm_rf = confusion_matrix(target_valid, rf_valid_preds)\n",
    "ConfusionMatrixDisplay(cm_rf).plot()\n",
    "plt.title(\"Confusion Matrix - Random Forest\")\n",
    "plt.show()\n",
    "\n",
    "\n",
    "# ROC Curve\n",
    "y_proba_rf = best_rf_model.predict_proba(features_valid)[:, 1]\n",
    "fpr_rf, tpr_rf, _ = roc_curve(target_valid, y_proba_rf)\n",
    "\n",
    "plt.figure()\n",
    "plt.plot(fpr_rf, tpr_rf, label=\"Random Forest\")\n",
    "plt.plot([0, 1], [0, 1], linestyle='--', label=\"Random Model\")\n",
    "\n",
    "plt.xlim([0.0, 1.0])\n",
    "plt.ylim([0.0, 1.0])\n",
    "plt.xlabel('False Positive Rate')\n",
    "plt.ylabel('True Positive Rate')\n",
    "plt.title('ROC Curve of Random Forest (Resampled & Tuned)')\n",
    "plt.legend()\n",
    "plt.show()"
   ]
  },
  {
   "cell_type": "code",
   "execution_count": 41,
   "id": "12a8cc11",
   "metadata": {
    "scrolled": true
   },
   "outputs": [
    {
     "name": "stdout",
     "output_type": "stream",
     "text": [
      "{'bootstrap': True, 'ccp_alpha': 0.0, 'class_weight': 'balanced', 'criterion': 'gini', 'max_depth': None, 'max_features': 'sqrt', 'max_leaf_nodes': None, 'max_samples': None, 'min_impurity_decrease': 0.0, 'min_samples_leaf': 5, 'min_samples_split': 2, 'min_weight_fraction_leaf': 0.0, 'monotonic_cst': None, 'n_estimators': 150, 'n_jobs': None, 'oob_score': False, 'random_state': 12345, 'verbose': 0, 'warm_start': False}\n"
     ]
    }
   ],
   "source": [
    "print(best_rf_model.get_params())"
   ]
  },
  {
   "cell_type": "markdown",
   "id": "713dc502",
   "metadata": {},
   "source": [
    "### Conclusions for the Random Forest Model: \n",
    "\n",
    "\n",
    "**Conclusion** \n",
    "\n",
    "The Random Forest Model meets our criteria!\n"
   ]
  },
  {
   "cell_type": "markdown",
   "id": "fcba4e6a",
   "metadata": {},
   "source": [
    "## Comparing the Models"
   ]
  },
  {
   "cell_type": "code",
   "execution_count": 42,
   "id": "cc6284c3",
   "metadata": {},
   "outputs": [],
   "source": [
    "# Compute AUC-ROC for Logistic Regression\n",
    "roc_auc_final = roc_auc_score(target_valid, lr_model.predict_proba(features_valid)[:, 1])\n",
    "\n",
    "# Compute AUC-ROC for Decision Tree\n",
    "roc_auc_valid_dt = roc_auc_score(target_valid, best_dt_model.predict_proba(features_valid)[:, 1])\n",
    "\n",
    "# Compute AUC-ROC for Random Forest\n",
    "roc_auc_valid_rf = roc_auc_score(target_valid, best_rf_model.predict_proba(features_valid)[:, 1])"
   ]
  },
  {
   "cell_type": "code",
   "execution_count": 43,
   "id": "46c7f7e6",
   "metadata": {},
   "outputs": [],
   "source": [
    "model_comparison = pd.DataFrame({\n",
    "    \"Model\": [\"Logistic Regression\", \"Decision Tree\", \"Random Forest\"],\n",
    "    \"F1 Score (Validation)\": [f1_valid_final, f1_valid_dt, f1_valid_rf],\n",
    "    \"AUC-ROC (Validation)\": [roc_auc_final, roc_auc_valid_dt, roc_auc_valid_rf]\n",
    "})\n"
   ]
  },
  {
   "cell_type": "code",
   "execution_count": 44,
   "id": "c8abd9bd",
   "metadata": {},
   "outputs": [
    {
     "data": {
      "text/html": [
       "<div>\n",
       "<style scoped>\n",
       "    .dataframe tbody tr th:only-of-type {\n",
       "        vertical-align: middle;\n",
       "    }\n",
       "\n",
       "    .dataframe tbody tr th {\n",
       "        vertical-align: top;\n",
       "    }\n",
       "\n",
       "    .dataframe thead th {\n",
       "        text-align: right;\n",
       "    }\n",
       "</style>\n",
       "<table border=\"1\" class=\"dataframe\">\n",
       "  <thead>\n",
       "    <tr style=\"text-align: right;\">\n",
       "      <th></th>\n",
       "      <th>Model</th>\n",
       "      <th>F1 Score (Validation)</th>\n",
       "      <th>AUC-ROC (Validation)</th>\n",
       "    </tr>\n",
       "  </thead>\n",
       "  <tbody>\n",
       "    <tr>\n",
       "      <th>0</th>\n",
       "      <td>Logistic Regression</td>\n",
       "      <td>0.464560</td>\n",
       "      <td>0.733249</td>\n",
       "    </tr>\n",
       "    <tr>\n",
       "      <th>1</th>\n",
       "      <td>Decision Tree</td>\n",
       "      <td>0.544061</td>\n",
       "      <td>0.808536</td>\n",
       "    </tr>\n",
       "    <tr>\n",
       "      <th>2</th>\n",
       "      <td>Random Forest</td>\n",
       "      <td>0.590206</td>\n",
       "      <td>0.844781</td>\n",
       "    </tr>\n",
       "  </tbody>\n",
       "</table>\n",
       "</div>"
      ],
      "text/plain": [
       "                 Model  F1 Score (Validation)  AUC-ROC (Validation)\n",
       "0  Logistic Regression               0.464560              0.733249\n",
       "1        Decision Tree               0.544061              0.808536\n",
       "2        Random Forest               0.590206              0.844781"
      ]
     },
     "execution_count": 44,
     "metadata": {},
     "output_type": "execute_result"
    }
   ],
   "source": [
    "model_comparison"
   ]
  },
  {
   "cell_type": "code",
   "execution_count": 45,
   "id": "e588fd9c",
   "metadata": {},
   "outputs": [
    {
     "data": {
      "image/png": "[encoded data removed]",
      "text/plain": [
       "<Figure size 800x600 with 1 Axes>"
      ]
     },
     "metadata": {},
     "output_type": "display_data"
    }
   ],
   "source": [
    "plt.figure(figsize=(8, 6))\n",
    "\n",
    "# Logistic Regression ROC Curve\n",
    "plt.plot(fpr_lr, tpr_lr, label=f\"Logistic Regression (AUC = {roc_auc_final:.3f})\", linestyle=\"--\")\n",
    "\n",
    "# Decision Tree ROC Curve\n",
    "plt.plot(fpr_dt, tpr_dt, label=f\"Decision Tree (AUC = {roc_auc_valid_dt:.3f})\")\n",
    "\n",
    "# Random Forest ROC Curve\n",
    "plt.plot(fpr_rf, tpr_rf, label=f\"Random Forest (AUC = {roc_auc_valid_rf:.3f})\", linestyle='-.')\n",
    "\n",
    "# Random Model Baseline\n",
    "plt.plot([0, 1], [0, 1], linestyle='dashed', color='gray', label=\"Random Model\")\n",
    "\n",
    "# Labels & Title\n",
    "plt.xlabel(\"False Positive Rate\")\n",
    "plt.ylabel(\"True Positive Rate\")\n",
    "plt.title(\"ROC Curve Comparison\")\n",
    "plt.legend()\n",
    "plt.show()"
   ]
  },
  {
   "cell_type": "markdown",
   "id": "17e271c9",
   "metadata": {},
   "source": []
  },
  {
   "cell_type": "markdown",
   "id": "cdba80c9",
   "metadata": {},
   "source": [
    "# Final Testing\n",
    "\n",
    "Testing with the Random Forest Model.\n"
   ]
  },
  {
   "cell_type": "markdown",
   "id": "40a0e0f4",
   "metadata": {},
   "source": [
    "## Training the Model with the Best Parameters on the Full Training Set"
   ]
  },
  {
   "cell_type": "code",
   "execution_count": 46,
   "id": "9a943648",
   "metadata": {},
   "outputs": [
    {
     "name": "stdout",
     "output_type": "stream",
     "text": [
      "Final RF Model Trained on Full Data\n",
      "Final RF Validation F1 Score (Adjusted): 0.5900151285930408\n",
      "Final Validation AUC-ROC Score: 0.8516973736288366\n"
     ]
    }
   ],
   "source": [
    "# Train the final model with best hyperparameters on FULL training data\n",
    "final_rf_model = RandomForestClassifier(\n",
    "    n_estimators=150,  \n",
    "    max_depth=None,  \n",
    "    min_samples_leaf=5,  \n",
    "    min_samples_split=2,  \n",
    "    class_weight={0: 1, 1: 5},  \n",
    "    random_state=12345  \n",
    ")\n",
    "\n",
    "final_rf_model.fit(features_train, target_train)  # Train on full training set\n",
    "\n",
    "# Get predicted probabilities on validation set\n",
    "final_probabilities_valid_rf = final_rf_model.predict_proba(features_valid)[:, 1]\n",
    "\n",
    "# Apply the best threshold\n",
    "final_preds_valid_rf_adjusted = (final_probabilities_valid_rf > best_threshold).astype(int)\n",
    "\n",
    "# Compute adjusted final F1 score\n",
    "final_f1_valid_rf_adjusted = f1_score(target_valid, final_preds_valid_rf_adjusted)\n",
    "final_roc_auc_valid_rf = roc_auc_score(target_valid, final_probabilities_valid_rf)\n",
    "\n",
    "print(\"Final RF Model Trained on Full Data\")\n",
    "print(\"Final RF Validation F1 Score (Adjusted):\", final_f1_valid_rf_adjusted)\n",
    "print(\"Final Validation AUC-ROC Score:\", final_roc_auc_valid_rf)"
   ]
  },
  {
   "cell_type": "code",
   "execution_count": 47,
   "id": "5422eb23",
   "metadata": {},
   "outputs": [
    {
     "data": {
      "image/png": "[encoded data removed]",
      "text/plain": [
       "<Figure size 640x480 with 2 Axes>"
      ]
     },
     "metadata": {},
     "output_type": "display_data"
    },
    {
     "data": {
      "image/png": "[encoded data removed]",
      "text/plain": [
       "<Figure size 800x600 with 1 Axes>"
      ]
     },
     "metadata": {},
     "output_type": "display_data"
    }
   ],
   "source": [
    "# Visualizing the final results\n",
    "\n",
    "# Compute confusion matrix\n",
    "cm_rf = confusion_matrix(target_valid, rf_valid_preds_adjusted)  # Using the best threshold\n",
    "\n",
    "# Plot and save\n",
    "disp = ConfusionMatrixDisplay(confusion_matrix=cm_rf)\n",
    "disp.plot()\n",
    "plt.title(\"Confusion Matrix - Random Forest\")\n",
    "plt.savefig(\"confusion_matrix_rf.png\")  # Save as an image\n",
    "plt.show()\n",
    "\n",
    "# Compute ROC curve\n",
    "fpr_rf, tpr_rf, _ = roc_curve(target_valid, probabilities_valid_rf)\n",
    "\n",
    "# Plot and save\n",
    "plt.figure(figsize=(8,6))\n",
    "plt.plot(fpr_rf, tpr_rf, label=f\"Random Forest (AUC = {roc_auc_valid_rf:.3f})\")\n",
    "plt.plot([0, 1], [0, 1], linestyle=\"--\", color=\"gray\", label=\"Random Model\")\n",
    "\n",
    "plt.xlabel(\"False Positive Rate\")\n",
    "plt.ylabel(\"True Positive Rate\")\n",
    "plt.title(\"ROC Curve - Random Forest\")\n",
    "plt.legend()\n",
    "plt.savefig(\"roc_curve_rf.png\")  # Save as an image\n",
    "plt.show()"
   ]
  },
  {
   "cell_type": "markdown",
   "id": "c8008a93",
   "metadata": {},
   "source": [
    "# Project Summary"
   ]
  },
  {
   "cell_type": "markdown",
   "id": "a6ebeeeb",
   "metadata": {},
   "source": [
    "The goal of this project was to predict customer churn for Beta Bank and build a model with an F1 score of at least 0.59.\n",
    "\n",
    "**Key Steps:**\n",
    "\n",
    "- Explored the data and addressed class imbalance by testing undersampling and class weighting.\n",
    "- Tuned hyperparameters for Random Forest using GridSearchCV.\n",
    "- Optimized the decision threshold instead of using the default 0.5.\n",
    "\n",
    "**Final Model Performance:**\n",
    "\n",
    "- Best Model: Random Forest\n",
    "- Best Hyperparameters: {n_estimators: 150, max_depth: None, min_samples_leaf: 5, min_samples_split: 2}\n",
    "- Final F1 Score (Validation): 0.5900\n",
    "- Final AUC-ROC: 0.8517\n",
    "\n",
    "**Future Steps:**\n",
    "\n",
    "- Consider feature engineering to improve interpretability.\n",
    "- Deploy the model and monitor performance in real-time.\n",
    "- Explore boosting models like XGBoost or LightGBM for further improvements.\n",
    "\n"
   ]
  }
 ],
 "metadata": {
  "ExecuteTimeLog": [
   {
    "duration": 7,
    "start_time": "2024-10-18T19:50:41.788Z"
   },
   {
    "duration": 4,
    "start_time": "2024-10-18T19:51:49.054Z"
   },
   {
    "duration": 853,
    "start_time": "2024-10-18T20:20:06.357Z"
   },
   {
    "duration": 769,
    "start_time": "2024-10-18T20:22:54.870Z"
   },
   {
    "duration": 622,
    "start_time": "2024-10-18T20:22:55.641Z"
   },
   {
    "duration": 5,
    "start_time": "2024-10-18T20:22:56.265Z"
   },
   {
    "duration": 6,
    "start_time": "2024-10-18T20:22:56.273Z"
   },
   {
    "duration": 9,
    "start_time": "2024-10-18T20:22:56.281Z"
   },
   {
    "duration": 8,
    "start_time": "2024-10-18T20:22:56.293Z"
   },
   {
    "duration": 12,
    "start_time": "2024-10-18T20:22:56.303Z"
   },
   {
    "duration": 27,
    "start_time": "2024-10-18T20:22:56.317Z"
   },
   {
    "duration": 9,
    "start_time": "2024-10-18T20:22:56.345Z"
   },
   {
    "duration": 4,
    "start_time": "2024-10-18T20:22:56.356Z"
   },
   {
    "duration": 18,
    "start_time": "2024-10-18T20:22:56.361Z"
   },
   {
    "duration": 9,
    "start_time": "2024-10-18T20:22:56.382Z"
   },
   {
    "duration": 7,
    "start_time": "2024-10-18T20:22:56.392Z"
   },
   {
    "duration": 6,
    "start_time": "2024-10-18T20:22:56.404Z"
   },
   {
    "duration": 34,
    "start_time": "2024-10-18T20:22:56.411Z"
   },
   {
    "duration": 26,
    "start_time": "2024-10-18T20:22:56.447Z"
   },
   {
    "duration": 27,
    "start_time": "2024-10-18T20:22:56.474Z"
   },
   {
    "duration": 5,
    "start_time": "2024-10-18T20:22:56.503Z"
   },
   {
    "duration": 34,
    "start_time": "2024-10-18T20:22:56.510Z"
   },
   {
    "duration": 2450,
    "start_time": "2024-10-18T20:22:56.546Z"
   },
   {
    "duration": 9,
    "start_time": "2024-10-18T20:22:58.998Z"
   },
   {
    "duration": 172,
    "start_time": "2024-10-18T20:22:59.008Z"
   },
   {
    "duration": 4,
    "start_time": "2024-10-18T20:22:59.182Z"
   },
   {
    "duration": 12,
    "start_time": "2024-10-18T20:22:59.187Z"
   },
   {
    "duration": 5,
    "start_time": "2024-10-18T20:22:59.201Z"
   },
   {
    "duration": 5,
    "start_time": "2024-10-18T20:22:59.208Z"
   },
   {
    "duration": 7,
    "start_time": "2024-10-18T20:22:59.242Z"
   },
   {
    "duration": 8,
    "start_time": "2024-10-18T20:22:59.250Z"
   },
   {
    "duration": 4,
    "start_time": "2024-10-18T20:22:59.259Z"
   },
   {
    "duration": 3,
    "start_time": "2024-10-18T20:22:59.265Z"
   },
   {
    "duration": 10,
    "start_time": "2024-10-18T20:22:59.269Z"
   },
   {
    "duration": 7,
    "start_time": "2024-10-18T20:22:59.281Z"
   },
   {
    "duration": 65,
    "start_time": "2024-10-18T20:22:59.290Z"
   },
   {
    "duration": 10,
    "start_time": "2024-10-18T20:22:59.357Z"
   },
   {
    "duration": 284,
    "start_time": "2024-10-18T20:22:59.369Z"
   },
   {
    "duration": 8,
    "start_time": "2024-10-18T20:22:59.657Z"
   },
   {
    "duration": 46,
    "start_time": "2024-10-18T20:22:59.666Z"
   },
   {
    "duration": 12,
    "start_time": "2024-10-18T20:22:59.742Z"
   },
   {
    "duration": 134,
    "start_time": "2024-10-18T20:22:59.756Z"
   },
   {
    "duration": 254,
    "start_time": "2024-10-18T20:22:59.892Z"
   },
   {
    "duration": 172,
    "start_time": "2024-10-18T20:23:00.151Z"
   },
   {
    "duration": 7,
    "start_time": "2024-10-18T20:23:00.325Z"
   },
   {
    "duration": 113,
    "start_time": "2024-10-18T20:23:00.334Z"
   },
   {
    "duration": 154,
    "start_time": "2024-10-18T20:23:00.449Z"
   },
   {
    "duration": 411,
    "start_time": "2024-10-18T20:23:00.605Z"
   },
   {
    "duration": 0,
    "start_time": "2024-10-18T20:23:01.018Z"
   },
   {
    "duration": 0,
    "start_time": "2024-10-18T20:23:01.020Z"
   },
   {
    "duration": 0,
    "start_time": "2024-10-18T20:23:01.022Z"
   },
   {
    "duration": 0,
    "start_time": "2024-10-18T20:23:01.023Z"
   },
   {
    "duration": 0,
    "start_time": "2024-10-18T20:23:01.024Z"
   },
   {
    "duration": 0,
    "start_time": "2024-10-18T20:23:01.026Z"
   },
   {
    "duration": 0,
    "start_time": "2024-10-18T20:23:01.027Z"
   },
   {
    "duration": 0,
    "start_time": "2024-10-18T20:23:01.044Z"
   },
   {
    "duration": 0,
    "start_time": "2024-10-18T20:23:01.045Z"
   },
   {
    "duration": 0,
    "start_time": "2024-10-18T20:23:01.046Z"
   },
   {
    "duration": 0,
    "start_time": "2024-10-18T20:23:01.047Z"
   },
   {
    "duration": 0,
    "start_time": "2024-10-18T20:23:01.048Z"
   },
   {
    "duration": 0,
    "start_time": "2024-10-18T20:23:01.049Z"
   },
   {
    "duration": 0,
    "start_time": "2024-10-18T20:23:01.054Z"
   },
   {
    "duration": 0,
    "start_time": "2024-10-18T20:23:01.055Z"
   },
   {
    "duration": 0,
    "start_time": "2024-10-18T20:23:01.056Z"
   },
   {
    "duration": 0,
    "start_time": "2024-10-18T20:23:01.057Z"
   },
   {
    "duration": 0,
    "start_time": "2024-10-18T20:23:01.059Z"
   },
   {
    "duration": 4,
    "start_time": "2024-10-18T20:23:46.796Z"
   },
   {
    "duration": 5,
    "start_time": "2024-10-18T20:24:15.968Z"
   },
   {
    "duration": 4,
    "start_time": "2024-10-18T20:24:27.029Z"
   },
   {
    "duration": 6,
    "start_time": "2024-10-18T20:30:59.872Z"
   },
   {
    "duration": 5,
    "start_time": "2024-10-18T20:31:08.533Z"
   },
   {
    "duration": 48,
    "start_time": "2024-10-18T20:31:20.489Z"
   },
   {
    "duration": 43,
    "start_time": "2024-10-18T20:31:44.663Z"
   },
   {
    "duration": 45,
    "start_time": "2024-10-18T20:34:18.932Z"
   },
   {
    "duration": 48,
    "start_time": "2024-10-18T20:35:34.532Z"
   },
   {
    "duration": 2,
    "start_time": "2024-10-18T20:36:37.634Z"
   },
   {
    "duration": 802,
    "start_time": "2024-10-18T20:39:31.641Z"
   },
   {
    "duration": 681,
    "start_time": "2024-10-18T20:39:32.447Z"
   },
   {
    "duration": 5,
    "start_time": "2024-10-18T20:39:33.130Z"
   },
   {
    "duration": 6,
    "start_time": "2024-10-18T20:39:33.138Z"
   },
   {
    "duration": 10,
    "start_time": "2024-10-18T20:39:33.145Z"
   },
   {
    "duration": 11,
    "start_time": "2024-10-18T20:39:33.159Z"
   },
   {
    "duration": 13,
    "start_time": "2024-10-18T20:39:33.172Z"
   },
   {
    "duration": 3,
    "start_time": "2024-10-18T20:39:33.187Z"
   },
   {
    "duration": 8,
    "start_time": "2024-10-18T20:39:33.191Z"
   },
   {
    "duration": 3,
    "start_time": "2024-10-18T20:39:33.202Z"
   },
   {
    "duration": 46,
    "start_time": "2024-10-18T20:39:33.207Z"
   },
   {
    "duration": 9,
    "start_time": "2024-10-18T20:39:33.255Z"
   },
   {
    "duration": 5,
    "start_time": "2024-10-18T20:39:33.265Z"
   },
   {
    "duration": 7,
    "start_time": "2024-10-18T20:39:33.271Z"
   },
   {
    "duration": 4,
    "start_time": "2024-10-18T20:39:33.279Z"
   },
   {
    "duration": 58,
    "start_time": "2024-10-18T20:39:33.285Z"
   },
   {
    "duration": 27,
    "start_time": "2024-10-18T20:39:33.344Z"
   },
   {
    "duration": 5,
    "start_time": "2024-10-18T20:39:33.373Z"
   },
   {
    "duration": 6,
    "start_time": "2024-10-18T20:39:33.379Z"
   },
   {
    "duration": 708,
    "start_time": "2024-10-18T20:39:33.387Z"
   },
   {
    "duration": 6,
    "start_time": "2024-10-18T20:39:34.098Z"
   },
   {
    "duration": 96,
    "start_time": "2024-10-18T20:39:34.106Z"
   },
   {
    "duration": 3,
    "start_time": "2024-10-18T20:39:34.204Z"
   },
   {
    "duration": 11,
    "start_time": "2024-10-18T20:39:34.209Z"
   },
   {
    "duration": 23,
    "start_time": "2024-10-18T20:39:34.221Z"
   },
   {
    "duration": 5,
    "start_time": "2024-10-18T20:39:34.246Z"
   },
   {
    "duration": 6,
    "start_time": "2024-10-18T20:39:34.253Z"
   },
   {
    "duration": 6,
    "start_time": "2024-10-18T20:39:34.265Z"
   },
   {
    "duration": 4,
    "start_time": "2024-10-18T20:39:34.272Z"
   },
   {
    "duration": 3,
    "start_time": "2024-10-18T20:39:34.278Z"
   },
   {
    "duration": 10,
    "start_time": "2024-10-18T20:39:34.283Z"
   },
   {
    "duration": 48,
    "start_time": "2024-10-18T20:39:34.295Z"
   },
   {
    "duration": 30,
    "start_time": "2024-10-18T20:39:34.345Z"
   },
   {
    "duration": 11,
    "start_time": "2024-10-18T20:39:34.376Z"
   },
   {
    "duration": 285,
    "start_time": "2024-10-18T20:39:34.388Z"
   },
   {
    "duration": 6,
    "start_time": "2024-10-18T20:39:34.675Z"
   },
   {
    "duration": 63,
    "start_time": "2024-10-18T20:39:34.683Z"
   },
   {
    "duration": 10,
    "start_time": "2024-10-18T20:39:34.748Z"
   },
   {
    "duration": 137,
    "start_time": "2024-10-18T20:39:34.760Z"
   },
   {
    "duration": 250,
    "start_time": "2024-10-18T20:39:34.898Z"
   },
   {
    "duration": 181,
    "start_time": "2024-10-18T20:39:35.150Z"
   },
   {
    "duration": 7,
    "start_time": "2024-10-18T20:39:35.334Z"
   },
   {
    "duration": 118,
    "start_time": "2024-10-18T20:39:35.342Z"
   },
   {
    "duration": 107,
    "start_time": "2024-10-18T20:39:35.461Z"
   },
   {
    "duration": 3,
    "start_time": "2024-10-18T20:39:35.570Z"
   },
   {
    "duration": 397,
    "start_time": "2024-10-18T20:39:35.575Z"
   },
   {
    "duration": 0,
    "start_time": "2024-10-18T20:39:35.974Z"
   },
   {
    "duration": 0,
    "start_time": "2024-10-18T20:39:35.975Z"
   },
   {
    "duration": 0,
    "start_time": "2024-10-18T20:39:35.977Z"
   },
   {
    "duration": 0,
    "start_time": "2024-10-18T20:39:35.978Z"
   },
   {
    "duration": 0,
    "start_time": "2024-10-18T20:39:35.979Z"
   },
   {
    "duration": 0,
    "start_time": "2024-10-18T20:39:35.981Z"
   },
   {
    "duration": 0,
    "start_time": "2024-10-18T20:39:35.983Z"
   },
   {
    "duration": 0,
    "start_time": "2024-10-18T20:39:35.984Z"
   },
   {
    "duration": 0,
    "start_time": "2024-10-18T20:39:35.986Z"
   },
   {
    "duration": 0,
    "start_time": "2024-10-18T20:39:35.987Z"
   },
   {
    "duration": 0,
    "start_time": "2024-10-18T20:39:35.988Z"
   },
   {
    "duration": 0,
    "start_time": "2024-10-18T20:39:35.988Z"
   },
   {
    "duration": 0,
    "start_time": "2024-10-18T20:39:35.990Z"
   },
   {
    "duration": 0,
    "start_time": "2024-10-18T20:39:35.991Z"
   },
   {
    "duration": 4,
    "start_time": "2024-10-18T20:44:34.627Z"
   },
   {
    "duration": 11,
    "start_time": "2024-10-18T20:49:56.766Z"
   },
   {
    "duration": 23,
    "start_time": "2024-10-18T20:50:05.262Z"
   },
   {
    "duration": 23,
    "start_time": "2024-10-18T20:51:18.206Z"
   },
   {
    "duration": 11,
    "start_time": "2024-10-18T20:51:22.238Z"
   },
   {
    "duration": 12,
    "start_time": "2024-10-18T20:51:30.257Z"
   },
   {
    "duration": 765,
    "start_time": "2024-10-18T20:56:07.869Z"
   },
   {
    "duration": 640,
    "start_time": "2024-10-18T20:56:08.636Z"
   },
   {
    "duration": 5,
    "start_time": "2024-10-18T20:56:09.279Z"
   },
   {
    "duration": 7,
    "start_time": "2024-10-18T20:56:09.285Z"
   },
   {
    "duration": 9,
    "start_time": "2024-10-18T20:56:09.294Z"
   },
   {
    "duration": 9,
    "start_time": "2024-10-18T20:56:09.306Z"
   },
   {
    "duration": 12,
    "start_time": "2024-10-18T20:56:09.317Z"
   },
   {
    "duration": 13,
    "start_time": "2024-10-18T20:56:09.330Z"
   },
   {
    "duration": 9,
    "start_time": "2024-10-18T20:56:09.345Z"
   },
   {
    "duration": 3,
    "start_time": "2024-10-18T20:56:09.356Z"
   },
   {
    "duration": 12,
    "start_time": "2024-10-18T20:56:09.360Z"
   },
   {
    "duration": 9,
    "start_time": "2024-10-18T20:56:09.374Z"
   },
   {
    "duration": 5,
    "start_time": "2024-10-18T20:56:09.384Z"
   },
   {
    "duration": 6,
    "start_time": "2024-10-18T20:56:09.393Z"
   },
   {
    "duration": 43,
    "start_time": "2024-10-18T20:56:09.401Z"
   },
   {
    "duration": 27,
    "start_time": "2024-10-18T20:56:09.445Z"
   },
   {
    "duration": 28,
    "start_time": "2024-10-18T20:56:09.473Z"
   },
   {
    "duration": 6,
    "start_time": "2024-10-18T20:56:09.502Z"
   },
   {
    "duration": 38,
    "start_time": "2024-10-18T20:56:09.510Z"
   },
   {
    "duration": 718,
    "start_time": "2024-10-18T20:56:09.549Z"
   },
   {
    "duration": 5,
    "start_time": "2024-10-18T20:56:10.269Z"
   },
   {
    "duration": 100,
    "start_time": "2024-10-18T20:56:10.276Z"
   },
   {
    "duration": 4,
    "start_time": "2024-10-18T20:56:10.378Z"
   },
   {
    "duration": 11,
    "start_time": "2024-10-18T20:56:10.384Z"
   },
   {
    "duration": 5,
    "start_time": "2024-10-18T20:56:10.397Z"
   },
   {
    "duration": 5,
    "start_time": "2024-10-18T20:56:10.404Z"
   },
   {
    "duration": 35,
    "start_time": "2024-10-18T20:56:10.410Z"
   },
   {
    "duration": 7,
    "start_time": "2024-10-18T20:56:10.446Z"
   },
   {
    "duration": 3,
    "start_time": "2024-10-18T20:56:10.454Z"
   },
   {
    "duration": 3,
    "start_time": "2024-10-18T20:56:10.459Z"
   },
   {
    "duration": 9,
    "start_time": "2024-10-18T20:56:10.464Z"
   },
   {
    "duration": 9,
    "start_time": "2024-10-18T20:56:10.474Z"
   },
   {
    "duration": 74,
    "start_time": "2024-10-18T20:56:10.484Z"
   },
   {
    "duration": 11,
    "start_time": "2024-10-18T20:56:10.563Z"
   },
   {
    "duration": 300,
    "start_time": "2024-10-18T20:56:10.576Z"
   },
   {
    "duration": 7,
    "start_time": "2024-10-18T20:56:10.878Z"
   },
   {
    "duration": 62,
    "start_time": "2024-10-18T20:56:10.886Z"
   },
   {
    "duration": 14,
    "start_time": "2024-10-18T20:56:10.952Z"
   },
   {
    "duration": 133,
    "start_time": "2024-10-18T20:56:10.968Z"
   },
   {
    "duration": 249,
    "start_time": "2024-10-18T20:56:11.103Z"
   },
   {
    "duration": 189,
    "start_time": "2024-10-18T20:56:11.358Z"
   },
   {
    "duration": 6,
    "start_time": "2024-10-18T20:56:11.549Z"
   },
   {
    "duration": 123,
    "start_time": "2024-10-18T20:56:11.557Z"
   },
   {
    "duration": 106,
    "start_time": "2024-10-18T20:56:11.681Z"
   },
   {
    "duration": 3,
    "start_time": "2024-10-18T20:56:11.788Z"
   },
   {
    "duration": 343,
    "start_time": "2024-10-18T20:56:11.793Z"
   },
   {
    "duration": 0,
    "start_time": "2024-10-18T20:56:12.138Z"
   },
   {
    "duration": 0,
    "start_time": "2024-10-18T20:56:12.143Z"
   },
   {
    "duration": 0,
    "start_time": "2024-10-18T20:56:12.145Z"
   },
   {
    "duration": 0,
    "start_time": "2024-10-18T20:56:12.146Z"
   },
   {
    "duration": 0,
    "start_time": "2024-10-18T20:56:12.147Z"
   },
   {
    "duration": 0,
    "start_time": "2024-10-18T20:56:12.149Z"
   },
   {
    "duration": 0,
    "start_time": "2024-10-18T20:56:12.150Z"
   },
   {
    "duration": 0,
    "start_time": "2024-10-18T20:56:12.152Z"
   },
   {
    "duration": 0,
    "start_time": "2024-10-18T20:56:12.153Z"
   },
   {
    "duration": 0,
    "start_time": "2024-10-18T20:56:12.155Z"
   },
   {
    "duration": 0,
    "start_time": "2024-10-18T20:56:12.156Z"
   },
   {
    "duration": 0,
    "start_time": "2024-10-18T20:56:12.157Z"
   },
   {
    "duration": 0,
    "start_time": "2024-10-18T20:56:12.158Z"
   },
   {
    "duration": 0,
    "start_time": "2024-10-18T20:56:12.159Z"
   },
   {
    "duration": 12,
    "start_time": "2024-10-18T21:00:54.422Z"
   },
   {
    "duration": 1019,
    "start_time": "2024-10-18T21:02:09.030Z"
   },
   {
    "duration": 10,
    "start_time": "2024-10-18T21:02:29.969Z"
   },
   {
    "duration": 12,
    "start_time": "2024-10-18T21:02:46.151Z"
   },
   {
    "duration": 74,
    "start_time": "2024-10-18T21:02:46.247Z"
   },
   {
    "duration": 13,
    "start_time": "2024-10-18T21:02:51.545Z"
   },
   {
    "duration": 12,
    "start_time": "2024-10-18T21:02:54.458Z"
   },
   {
    "duration": 13,
    "start_time": "2024-10-18T21:03:01.095Z"
   },
   {
    "duration": 11,
    "start_time": "2024-10-18T21:04:24.840Z"
   },
   {
    "duration": 14,
    "start_time": "2024-10-18T21:04:37.628Z"
   },
   {
    "duration": 4,
    "start_time": "2024-10-18T21:07:36.862Z"
   },
   {
    "duration": 10,
    "start_time": "2024-10-18T21:07:43.121Z"
   },
   {
    "duration": 7,
    "start_time": "2024-10-18T21:07:48.772Z"
   },
   {
    "duration": 8,
    "start_time": "2024-10-18T21:08:00.942Z"
   },
   {
    "duration": 8,
    "start_time": "2024-10-18T21:09:40.817Z"
   },
   {
    "duration": 58,
    "start_time": "2024-10-18T21:11:09.073Z"
   },
   {
    "duration": 125,
    "start_time": "2024-10-18T21:11:14.794Z"
   },
   {
    "duration": 740,
    "start_time": "2024-10-18T21:11:29.402Z"
   },
   {
    "duration": 692,
    "start_time": "2024-10-18T21:11:30.145Z"
   },
   {
    "duration": 5,
    "start_time": "2024-10-18T21:11:30.839Z"
   },
   {
    "duration": 8,
    "start_time": "2024-10-18T21:11:30.846Z"
   },
   {
    "duration": 9,
    "start_time": "2024-10-18T21:11:30.857Z"
   },
   {
    "duration": 10,
    "start_time": "2024-10-18T21:11:30.867Z"
   },
   {
    "duration": 13,
    "start_time": "2024-10-18T21:11:30.879Z"
   },
   {
    "duration": 3,
    "start_time": "2024-10-18T21:11:30.894Z"
   },
   {
    "duration": 48,
    "start_time": "2024-10-18T21:11:30.899Z"
   },
   {
    "duration": 5,
    "start_time": "2024-10-18T21:11:30.949Z"
   },
   {
    "duration": 13,
    "start_time": "2024-10-18T21:11:30.956Z"
   },
   {
    "duration": 9,
    "start_time": "2024-10-18T21:11:30.971Z"
   },
   {
    "duration": 5,
    "start_time": "2024-10-18T21:11:30.982Z"
   },
   {
    "duration": 6,
    "start_time": "2024-10-18T21:11:30.990Z"
   },
   {
    "duration": 4,
    "start_time": "2024-10-18T21:11:30.998Z"
   },
   {
    "duration": 65,
    "start_time": "2024-10-18T21:11:31.003Z"
   },
   {
    "duration": 28,
    "start_time": "2024-10-18T21:11:31.070Z"
   },
   {
    "duration": 7,
    "start_time": "2024-10-18T21:11:31.099Z"
   },
   {
    "duration": 6,
    "start_time": "2024-10-18T21:11:31.107Z"
   },
   {
    "duration": 746,
    "start_time": "2024-10-18T21:11:31.115Z"
   },
   {
    "duration": 6,
    "start_time": "2024-10-18T21:11:31.863Z"
   },
   {
    "duration": 111,
    "start_time": "2024-10-18T21:11:31.870Z"
   },
   {
    "duration": 4,
    "start_time": "2024-10-18T21:11:31.983Z"
   },
   {
    "duration": 13,
    "start_time": "2024-10-18T21:11:31.989Z"
   },
   {
    "duration": 9,
    "start_time": "2024-10-18T21:11:32.004Z"
   },
   {
    "duration": 6,
    "start_time": "2024-10-18T21:11:32.014Z"
   },
   {
    "duration": 6,
    "start_time": "2024-10-18T21:11:32.043Z"
   },
   {
    "duration": 6,
    "start_time": "2024-10-18T21:11:32.052Z"
   },
   {
    "duration": 4,
    "start_time": "2024-10-18T21:11:32.059Z"
   },
   {
    "duration": 3,
    "start_time": "2024-10-18T21:11:32.065Z"
   },
   {
    "duration": 9,
    "start_time": "2024-10-18T21:11:32.069Z"
   },
   {
    "duration": 8,
    "start_time": "2024-10-18T21:11:32.080Z"
   },
   {
    "duration": 62,
    "start_time": "2024-10-18T21:11:32.090Z"
   },
   {
    "duration": 10,
    "start_time": "2024-10-18T21:11:32.154Z"
   },
   {
    "duration": 285,
    "start_time": "2024-10-18T21:11:32.165Z"
   },
   {
    "duration": 6,
    "start_time": "2024-10-18T21:11:32.453Z"
   },
   {
    "duration": 46,
    "start_time": "2024-10-18T21:11:32.461Z"
   },
   {
    "duration": 45,
    "start_time": "2024-10-18T21:11:32.508Z"
   },
   {
    "duration": 132,
    "start_time": "2024-10-18T21:11:32.555Z"
   },
   {
    "duration": 256,
    "start_time": "2024-10-18T21:11:32.689Z"
   },
   {
    "duration": 181,
    "start_time": "2024-10-18T21:11:32.951Z"
   },
   {
    "duration": 7,
    "start_time": "2024-10-18T21:11:33.133Z"
   },
   {
    "duration": 120,
    "start_time": "2024-10-18T21:11:33.141Z"
   },
   {
    "duration": 108,
    "start_time": "2024-10-18T21:11:33.263Z"
   },
   {
    "duration": 4,
    "start_time": "2024-10-18T21:11:33.373Z"
   },
   {
    "duration": 347,
    "start_time": "2024-10-18T21:11:33.379Z"
   },
   {
    "duration": 0,
    "start_time": "2024-10-18T21:11:33.728Z"
   },
   {
    "duration": 0,
    "start_time": "2024-10-18T21:11:33.729Z"
   },
   {
    "duration": 0,
    "start_time": "2024-10-18T21:11:33.729Z"
   },
   {
    "duration": 0,
    "start_time": "2024-10-18T21:11:33.731Z"
   },
   {
    "duration": 0,
    "start_time": "2024-10-18T21:11:33.731Z"
   },
   {
    "duration": 0,
    "start_time": "2024-10-18T21:11:33.732Z"
   },
   {
    "duration": 0,
    "start_time": "2024-10-18T21:11:33.733Z"
   },
   {
    "duration": 0,
    "start_time": "2024-10-18T21:11:33.734Z"
   },
   {
    "duration": 0,
    "start_time": "2024-10-18T21:11:33.743Z"
   },
   {
    "duration": 0,
    "start_time": "2024-10-18T21:11:33.744Z"
   },
   {
    "duration": 0,
    "start_time": "2024-10-18T21:11:33.745Z"
   },
   {
    "duration": 0,
    "start_time": "2024-10-18T21:11:33.746Z"
   },
   {
    "duration": 0,
    "start_time": "2024-10-18T21:11:33.747Z"
   },
   {
    "duration": 0,
    "start_time": "2024-10-18T21:11:33.748Z"
   },
   {
    "duration": 105,
    "start_time": "2024-10-18T21:14:34.186Z"
   },
   {
    "duration": 45,
    "start_time": "2024-10-18T21:16:10.774Z"
   },
   {
    "duration": 13,
    "start_time": "2024-10-18T21:17:09.626Z"
   },
   {
    "duration": 9,
    "start_time": "2024-10-18T21:17:16.902Z"
   },
   {
    "duration": 225,
    "start_time": "2024-10-18T21:17:28.845Z"
   },
   {
    "duration": 6,
    "start_time": "2024-10-18T21:17:36.645Z"
   },
   {
    "duration": 47,
    "start_time": "2024-10-18T21:17:53.182Z"
   },
   {
    "duration": 793,
    "start_time": "2024-10-18T21:18:51.642Z"
   },
   {
    "duration": 659,
    "start_time": "2024-10-18T21:18:52.437Z"
   },
   {
    "duration": 6,
    "start_time": "2024-10-18T21:18:53.098Z"
   },
   {
    "duration": 7,
    "start_time": "2024-10-18T21:18:53.106Z"
   },
   {
    "duration": 9,
    "start_time": "2024-10-18T21:18:53.115Z"
   },
   {
    "duration": 10,
    "start_time": "2024-10-18T21:18:53.125Z"
   },
   {
    "duration": 13,
    "start_time": "2024-10-18T21:18:53.136Z"
   },
   {
    "duration": 3,
    "start_time": "2024-10-18T21:18:53.150Z"
   },
   {
    "duration": 9,
    "start_time": "2024-10-18T21:18:53.155Z"
   },
   {
    "duration": 3,
    "start_time": "2024-10-18T21:18:53.167Z"
   },
   {
    "duration": 13,
    "start_time": "2024-10-18T21:18:53.171Z"
   },
   {
    "duration": 10,
    "start_time": "2024-10-18T21:18:53.185Z"
   },
   {
    "duration": 5,
    "start_time": "2024-10-18T21:18:53.197Z"
   },
   {
    "duration": 39,
    "start_time": "2024-10-18T21:18:53.205Z"
   },
   {
    "duration": 5,
    "start_time": "2024-10-18T21:18:53.245Z"
   },
   {
    "duration": 26,
    "start_time": "2024-10-18T21:18:53.252Z"
   },
   {
    "duration": 27,
    "start_time": "2024-10-18T21:18:53.280Z"
   },
   {
    "duration": 35,
    "start_time": "2024-10-18T21:18:53.308Z"
   },
   {
    "duration": 6,
    "start_time": "2024-10-18T21:18:53.345Z"
   },
   {
    "duration": 711,
    "start_time": "2024-10-18T21:18:53.352Z"
   },
   {
    "duration": 6,
    "start_time": "2024-10-18T21:18:54.065Z"
   },
   {
    "duration": 101,
    "start_time": "2024-10-18T21:18:54.072Z"
   },
   {
    "duration": 4,
    "start_time": "2024-10-18T21:18:54.175Z"
   },
   {
    "duration": 11,
    "start_time": "2024-10-18T21:18:54.181Z"
   },
   {
    "duration": 7,
    "start_time": "2024-10-18T21:18:54.193Z"
   },
   {
    "duration": 5,
    "start_time": "2024-10-18T21:18:54.201Z"
   },
   {
    "duration": 6,
    "start_time": "2024-10-18T21:18:54.207Z"
   },
   {
    "duration": 32,
    "start_time": "2024-10-18T21:18:54.215Z"
   },
   {
    "duration": 3,
    "start_time": "2024-10-18T21:18:54.249Z"
   },
   {
    "duration": 3,
    "start_time": "2024-10-18T21:18:54.254Z"
   },
   {
    "duration": 9,
    "start_time": "2024-10-18T21:18:54.259Z"
   },
   {
    "duration": 8,
    "start_time": "2024-10-18T21:18:54.269Z"
   },
   {
    "duration": 67,
    "start_time": "2024-10-18T21:18:54.279Z"
   },
   {
    "duration": 9,
    "start_time": "2024-10-18T21:18:54.348Z"
   },
   {
    "duration": 277,
    "start_time": "2024-10-18T21:18:54.359Z"
   },
   {
    "duration": 9,
    "start_time": "2024-10-18T21:18:54.638Z"
   },
   {
    "duration": 48,
    "start_time": "2024-10-18T21:18:54.648Z"
   },
   {
    "duration": 14,
    "start_time": "2024-10-18T21:18:54.742Z"
   },
   {
    "duration": 134,
    "start_time": "2024-10-18T21:18:54.758Z"
   },
   {
    "duration": 241,
    "start_time": "2024-10-18T21:18:54.894Z"
   },
   {
    "duration": 187,
    "start_time": "2024-10-18T21:18:55.145Z"
   },
   {
    "duration": 6,
    "start_time": "2024-10-18T21:18:55.334Z"
   },
   {
    "duration": 111,
    "start_time": "2024-10-18T21:18:55.342Z"
   },
   {
    "duration": 114,
    "start_time": "2024-10-18T21:18:55.455Z"
   },
   {
    "duration": 4,
    "start_time": "2024-10-18T21:18:55.571Z"
   },
   {
    "duration": 337,
    "start_time": "2024-10-18T21:18:55.576Z"
   },
   {
    "duration": 0,
    "start_time": "2024-10-18T21:18:55.915Z"
   },
   {
    "duration": 0,
    "start_time": "2024-10-18T21:18:55.915Z"
   },
   {
    "duration": 0,
    "start_time": "2024-10-18T21:18:55.916Z"
   },
   {
    "duration": 1,
    "start_time": "2024-10-18T21:18:55.917Z"
   },
   {
    "duration": 0,
    "start_time": "2024-10-18T21:18:55.918Z"
   },
   {
    "duration": 0,
    "start_time": "2024-10-18T21:18:55.919Z"
   },
   {
    "duration": 0,
    "start_time": "2024-10-18T21:18:55.920Z"
   },
   {
    "duration": 0,
    "start_time": "2024-10-18T21:18:55.921Z"
   },
   {
    "duration": 0,
    "start_time": "2024-10-18T21:18:55.922Z"
   },
   {
    "duration": 0,
    "start_time": "2024-10-18T21:18:55.943Z"
   },
   {
    "duration": 0,
    "start_time": "2024-10-18T21:18:55.945Z"
   },
   {
    "duration": 0,
    "start_time": "2024-10-18T21:18:55.946Z"
   },
   {
    "duration": 0,
    "start_time": "2024-10-18T21:18:55.947Z"
   },
   {
    "duration": 0,
    "start_time": "2024-10-18T21:18:55.949Z"
   },
   {
    "duration": 3,
    "start_time": "2024-10-18T21:21:37.664Z"
   },
   {
    "duration": 33,
    "start_time": "2024-10-18T21:21:53.862Z"
   },
   {
    "duration": 35,
    "start_time": "2024-10-18T21:23:04.622Z"
   },
   {
    "duration": 35,
    "start_time": "2024-10-18T21:23:12.733Z"
   },
   {
    "duration": 1282,
    "start_time": "2024-10-18T21:23:35.389Z"
   },
   {
    "duration": 1258,
    "start_time": "2024-10-18T21:23:41.703Z"
   },
   {
    "duration": 1285,
    "start_time": "2024-10-18T21:24:25.415Z"
   },
   {
    "duration": 1270,
    "start_time": "2024-10-18T21:24:29.050Z"
   },
   {
    "duration": 1267,
    "start_time": "2024-10-18T21:25:23.592Z"
   },
   {
    "duration": 3,
    "start_time": "2024-10-18T21:27:14.340Z"
   },
   {
    "duration": 2,
    "start_time": "2024-10-18T21:27:20.003Z"
   },
   {
    "duration": 26,
    "start_time": "2024-10-18T21:27:22.772Z"
   },
   {
    "duration": 46,
    "start_time": "2024-10-18T21:32:22.172Z"
   },
   {
    "duration": 1256,
    "start_time": "2024-10-18T21:33:06.754Z"
   },
   {
    "duration": 1267,
    "start_time": "2024-10-18T21:34:10.205Z"
   },
   {
    "duration": 1269,
    "start_time": "2024-10-18T21:34:18.657Z"
   },
   {
    "duration": 155,
    "start_time": "2024-10-18T21:35:55.400Z"
   },
   {
    "duration": 156,
    "start_time": "2024-10-18T21:39:22.743Z"
   },
   {
    "duration": 8,
    "start_time": "2024-10-18T21:39:31.962Z"
   },
   {
    "duration": 1268,
    "start_time": "2024-10-18T21:40:53.441Z"
   },
   {
    "duration": 26,
    "start_time": "2024-10-18T21:43:05.351Z"
   },
   {
    "duration": 29,
    "start_time": "2024-10-18T21:44:39.760Z"
   },
   {
    "duration": 27,
    "start_time": "2024-10-18T21:48:50.236Z"
   },
   {
    "duration": 1282,
    "start_time": "2024-10-18T21:50:04.243Z"
   },
   {
    "duration": 1262,
    "start_time": "2024-10-18T21:50:17.832Z"
   },
   {
    "duration": 1267,
    "start_time": "2024-10-18T21:50:56.918Z"
   },
   {
    "duration": 1259,
    "start_time": "2024-10-18T21:51:07.284Z"
   },
   {
    "duration": 32,
    "start_time": "2024-10-18T21:54:40.753Z"
   },
   {
    "duration": 17,
    "start_time": "2024-10-18T21:55:12.751Z"
   },
   {
    "duration": 4,
    "start_time": "2024-10-18T21:56:42.707Z"
   },
   {
    "duration": 1267,
    "start_time": "2024-10-18T21:57:09.842Z"
   },
   {
    "duration": 1261,
    "start_time": "2024-10-18T21:58:54.373Z"
   },
   {
    "duration": 1263,
    "start_time": "2024-10-18T22:00:40.603Z"
   },
   {
    "duration": 1252,
    "start_time": "2024-10-18T22:00:47.519Z"
   },
   {
    "duration": 1256,
    "start_time": "2024-10-18T22:01:03.331Z"
   },
   {
    "duration": 1280,
    "start_time": "2024-10-18T22:01:19.365Z"
   },
   {
    "duration": 29,
    "start_time": "2024-10-18T22:01:28.532Z"
   },
   {
    "duration": 2,
    "start_time": "2024-10-18T22:01:31.785Z"
   },
   {
    "duration": 34,
    "start_time": "2024-10-18T22:01:42.652Z"
   },
   {
    "duration": 101,
    "start_time": "2024-10-18T22:02:08.703Z"
   },
   {
    "duration": 36,
    "start_time": "2024-10-18T22:13:38.324Z"
   },
   {
    "duration": 1250,
    "start_time": "2024-10-18T22:14:22.036Z"
   },
   {
    "duration": 48,
    "start_time": "2024-10-18T22:15:03.640Z"
   },
   {
    "duration": 1261,
    "start_time": "2024-10-18T22:16:19.535Z"
   },
   {
    "duration": 5,
    "start_time": "2024-10-18T22:16:36.046Z"
   },
   {
    "duration": 1262,
    "start_time": "2024-10-18T22:17:26.397Z"
   },
   {
    "duration": 1248,
    "start_time": "2024-10-18T22:17:33.077Z"
   },
   {
    "duration": 1260,
    "start_time": "2024-10-18T22:18:39.310Z"
   },
   {
    "duration": 4,
    "start_time": "2024-10-18T22:20:14.454Z"
   },
   {
    "duration": 51,
    "start_time": "2024-10-18T22:20:29.275Z"
   },
   {
    "duration": 7,
    "start_time": "2024-10-18T22:21:00.562Z"
   },
   {
    "duration": 5,
    "start_time": "2024-10-18T22:21:37.977Z"
   },
   {
    "duration": 122,
    "start_time": "2024-10-18T22:22:46.596Z"
   },
   {
    "duration": 6,
    "start_time": "2024-10-18T22:22:59.720Z"
   },
   {
    "duration": 127,
    "start_time": "2024-10-18T22:23:16.385Z"
   },
   {
    "duration": 49,
    "start_time": "2024-10-18T22:30:39.865Z"
   },
   {
    "duration": 778,
    "start_time": "2024-10-18T22:33:18.488Z"
   },
   {
    "duration": 554,
    "start_time": "2024-10-18T22:33:19.269Z"
   },
   {
    "duration": 6,
    "start_time": "2024-10-18T22:33:19.825Z"
   },
   {
    "duration": 6,
    "start_time": "2024-10-18T22:33:19.832Z"
   },
   {
    "duration": 10,
    "start_time": "2024-10-18T22:33:19.840Z"
   },
   {
    "duration": 10,
    "start_time": "2024-10-18T22:33:19.851Z"
   },
   {
    "duration": 12,
    "start_time": "2024-10-18T22:33:19.862Z"
   },
   {
    "duration": 3,
    "start_time": "2024-10-18T22:33:19.876Z"
   },
   {
    "duration": 9,
    "start_time": "2024-10-18T22:33:19.881Z"
   },
   {
    "duration": 4,
    "start_time": "2024-10-18T22:33:19.891Z"
   },
   {
    "duration": 47,
    "start_time": "2024-10-18T22:33:19.897Z"
   },
   {
    "duration": 11,
    "start_time": "2024-10-18T22:33:19.946Z"
   },
   {
    "duration": 5,
    "start_time": "2024-10-18T22:33:19.958Z"
   },
   {
    "duration": 6,
    "start_time": "2024-10-18T22:33:19.967Z"
   },
   {
    "duration": 5,
    "start_time": "2024-10-18T22:33:19.974Z"
   },
   {
    "duration": 63,
    "start_time": "2024-10-18T22:33:19.980Z"
   },
   {
    "duration": 30,
    "start_time": "2024-10-18T22:33:20.044Z"
   },
   {
    "duration": 5,
    "start_time": "2024-10-18T22:33:20.076Z"
   },
   {
    "duration": 5,
    "start_time": "2024-10-18T22:33:20.083Z"
   },
   {
    "duration": 738,
    "start_time": "2024-10-18T22:33:20.089Z"
   },
   {
    "duration": 8,
    "start_time": "2024-10-18T22:33:20.830Z"
   },
   {
    "duration": 89,
    "start_time": "2024-10-18T22:33:20.843Z"
   },
   {
    "duration": 4,
    "start_time": "2024-10-18T22:33:20.944Z"
   },
   {
    "duration": 12,
    "start_time": "2024-10-18T22:33:20.953Z"
   },
   {
    "duration": 6,
    "start_time": "2024-10-18T22:33:20.967Z"
   },
   {
    "duration": 4,
    "start_time": "2024-10-18T22:33:20.975Z"
   },
   {
    "duration": 7,
    "start_time": "2024-10-18T22:33:20.981Z"
   },
   {
    "duration": 7,
    "start_time": "2024-10-18T22:33:20.989Z"
   },
   {
    "duration": 4,
    "start_time": "2024-10-18T22:33:20.997Z"
   },
   {
    "duration": 5,
    "start_time": "2024-10-18T22:33:21.043Z"
   },
   {
    "duration": 11,
    "start_time": "2024-10-18T22:33:21.050Z"
   },
   {
    "duration": 7,
    "start_time": "2024-10-18T22:33:21.063Z"
   },
   {
    "duration": 30,
    "start_time": "2024-10-18T22:33:21.072Z"
   },
   {
    "duration": 16,
    "start_time": "2024-10-18T22:33:21.143Z"
   },
   {
    "duration": 282,
    "start_time": "2024-10-18T22:33:21.161Z"
   },
   {
    "duration": 7,
    "start_time": "2024-10-18T22:33:21.445Z"
   },
   {
    "duration": 46,
    "start_time": "2024-10-18T22:33:21.453Z"
   },
   {
    "duration": 54,
    "start_time": "2024-10-18T22:33:21.501Z"
   },
   {
    "duration": 133,
    "start_time": "2024-10-18T22:33:21.558Z"
   },
   {
    "duration": 250,
    "start_time": "2024-10-18T22:33:21.694Z"
   },
   {
    "duration": 187,
    "start_time": "2024-10-18T22:33:21.948Z"
   },
   {
    "duration": 7,
    "start_time": "2024-10-18T22:33:22.137Z"
   },
   {
    "duration": 117,
    "start_time": "2024-10-18T22:33:22.146Z"
   },
   {
    "duration": 118,
    "start_time": "2024-10-18T22:33:22.265Z"
   },
   {
    "duration": 1365,
    "start_time": "2024-10-18T22:33:22.385Z"
   },
   {
    "duration": 5,
    "start_time": "2024-10-18T22:33:23.752Z"
   },
   {
    "duration": 126,
    "start_time": "2024-10-18T22:33:23.759Z"
   },
   {
    "duration": 56,
    "start_time": "2024-10-18T22:33:23.887Z"
   },
   {
    "duration": 3,
    "start_time": "2024-10-18T22:33:23.944Z"
   },
   {
    "duration": 238,
    "start_time": "2024-10-18T22:33:23.949Z"
   },
   {
    "duration": 1,
    "start_time": "2024-10-18T22:33:24.188Z"
   },
   {
    "duration": 0,
    "start_time": "2024-10-18T22:33:24.190Z"
   },
   {
    "duration": 0,
    "start_time": "2024-10-18T22:33:24.191Z"
   },
   {
    "duration": 0,
    "start_time": "2024-10-18T22:33:24.192Z"
   },
   {
    "duration": 0,
    "start_time": "2024-10-18T22:33:24.193Z"
   },
   {
    "duration": 0,
    "start_time": "2024-10-18T22:33:24.194Z"
   },
   {
    "duration": 0,
    "start_time": "2024-10-18T22:33:24.195Z"
   },
   {
    "duration": 0,
    "start_time": "2024-10-18T22:33:24.196Z"
   },
   {
    "duration": 0,
    "start_time": "2024-10-18T22:33:24.197Z"
   },
   {
    "duration": 120,
    "start_time": "2024-10-18T22:34:39.509Z"
   },
   {
    "duration": 48,
    "start_time": "2024-10-18T22:34:43.690Z"
   },
   {
    "duration": 30,
    "start_time": "2024-10-18T22:35:52.672Z"
   },
   {
    "duration": 9,
    "start_time": "2024-10-18T22:37:27.668Z"
   },
   {
    "duration": 31,
    "start_time": "2024-10-18T22:47:53.211Z"
   },
   {
    "duration": 243,
    "start_time": "2024-10-18T22:52:06.456Z"
   },
   {
    "duration": 99,
    "start_time": "2024-10-18T22:52:28.062Z"
   },
   {
    "duration": 100,
    "start_time": "2024-10-18T22:53:36.293Z"
   },
   {
    "duration": 63,
    "start_time": "2024-10-18T22:55:11.465Z"
   },
   {
    "duration": 761,
    "start_time": "2024-10-18T23:01:45.188Z"
   },
   {
    "duration": 566,
    "start_time": "2024-10-18T23:01:45.953Z"
   },
   {
    "duration": 5,
    "start_time": "2024-10-18T23:01:46.522Z"
   },
   {
    "duration": 7,
    "start_time": "2024-10-18T23:01:46.530Z"
   },
   {
    "duration": 9,
    "start_time": "2024-10-18T23:01:46.538Z"
   },
   {
    "duration": 9,
    "start_time": "2024-10-18T23:01:46.549Z"
   },
   {
    "duration": 15,
    "start_time": "2024-10-18T23:01:46.560Z"
   },
   {
    "duration": 3,
    "start_time": "2024-10-18T23:01:46.576Z"
   },
   {
    "duration": 9,
    "start_time": "2024-10-18T23:01:46.581Z"
   },
   {
    "duration": 3,
    "start_time": "2024-10-18T23:01:46.593Z"
   },
   {
    "duration": 13,
    "start_time": "2024-10-18T23:01:46.597Z"
   },
   {
    "duration": 38,
    "start_time": "2024-10-18T23:01:46.612Z"
   },
   {
    "duration": 6,
    "start_time": "2024-10-18T23:01:46.651Z"
   },
   {
    "duration": 7,
    "start_time": "2024-10-18T23:01:46.658Z"
   },
   {
    "duration": 5,
    "start_time": "2024-10-18T23:01:46.667Z"
   },
   {
    "duration": 28,
    "start_time": "2024-10-18T23:01:46.674Z"
   },
   {
    "duration": 58,
    "start_time": "2024-10-18T23:01:46.703Z"
   },
   {
    "duration": 7,
    "start_time": "2024-10-18T23:01:46.762Z"
   },
   {
    "duration": 5,
    "start_time": "2024-10-18T23:01:46.770Z"
   },
   {
    "duration": 751,
    "start_time": "2024-10-18T23:01:46.776Z"
   },
   {
    "duration": 14,
    "start_time": "2024-10-18T23:01:47.530Z"
   },
   {
    "duration": 98,
    "start_time": "2024-10-18T23:01:47.546Z"
   },
   {
    "duration": 4,
    "start_time": "2024-10-18T23:01:47.646Z"
   },
   {
    "duration": 13,
    "start_time": "2024-10-18T23:01:47.652Z"
   },
   {
    "duration": 5,
    "start_time": "2024-10-18T23:01:47.666Z"
   },
   {
    "duration": 5,
    "start_time": "2024-10-18T23:01:47.673Z"
   },
   {
    "duration": 7,
    "start_time": "2024-10-18T23:01:47.680Z"
   },
   {
    "duration": 7,
    "start_time": "2024-10-18T23:01:47.691Z"
   },
   {
    "duration": 43,
    "start_time": "2024-10-18T23:01:47.700Z"
   },
   {
    "duration": 3,
    "start_time": "2024-10-18T23:01:47.745Z"
   },
   {
    "duration": 10,
    "start_time": "2024-10-18T23:01:47.750Z"
   },
   {
    "duration": 8,
    "start_time": "2024-10-18T23:01:47.762Z"
   },
   {
    "duration": 271,
    "start_time": "2024-10-18T23:01:47.771Z"
   },
   {
    "duration": 0,
    "start_time": "2024-10-18T23:01:48.044Z"
   },
   {
    "duration": 0,
    "start_time": "2024-10-18T23:01:48.046Z"
   },
   {
    "duration": 0,
    "start_time": "2024-10-18T23:01:48.048Z"
   },
   {
    "duration": 0,
    "start_time": "2024-10-18T23:01:48.049Z"
   },
   {
    "duration": 0,
    "start_time": "2024-10-18T23:01:48.050Z"
   },
   {
    "duration": 0,
    "start_time": "2024-10-18T23:01:48.051Z"
   },
   {
    "duration": 0,
    "start_time": "2024-10-18T23:01:48.052Z"
   },
   {
    "duration": 0,
    "start_time": "2024-10-18T23:01:48.053Z"
   },
   {
    "duration": 0,
    "start_time": "2024-10-18T23:01:48.054Z"
   },
   {
    "duration": 0,
    "start_time": "2024-10-18T23:01:48.055Z"
   },
   {
    "duration": 0,
    "start_time": "2024-10-18T23:01:48.056Z"
   },
   {
    "duration": 0,
    "start_time": "2024-10-18T23:01:48.057Z"
   },
   {
    "duration": 0,
    "start_time": "2024-10-18T23:01:48.058Z"
   },
   {
    "duration": 0,
    "start_time": "2024-10-18T23:01:48.061Z"
   },
   {
    "duration": 0,
    "start_time": "2024-10-18T23:01:48.064Z"
   },
   {
    "duration": 0,
    "start_time": "2024-10-18T23:01:48.065Z"
   },
   {
    "duration": 0,
    "start_time": "2024-10-18T23:01:48.069Z"
   },
   {
    "duration": 0,
    "start_time": "2024-10-18T23:01:48.070Z"
   },
   {
    "duration": 0,
    "start_time": "2024-10-18T23:01:48.071Z"
   },
   {
    "duration": 0,
    "start_time": "2024-10-18T23:01:48.073Z"
   },
   {
    "duration": 0,
    "start_time": "2024-10-18T23:01:48.075Z"
   },
   {
    "duration": 0,
    "start_time": "2024-10-18T23:01:48.076Z"
   },
   {
    "duration": 0,
    "start_time": "2024-10-18T23:01:48.079Z"
   },
   {
    "duration": 0,
    "start_time": "2024-10-18T23:01:48.079Z"
   },
   {
    "duration": 17,
    "start_time": "2024-10-18T23:02:15.649Z"
   },
   {
    "duration": 318,
    "start_time": "2024-10-18T23:02:18.894Z"
   },
   {
    "duration": 13,
    "start_time": "2024-10-18T23:03:56.577Z"
   },
   {
    "duration": 779,
    "start_time": "2024-10-18T23:04:12.672Z"
   },
   {
    "duration": 663,
    "start_time": "2024-10-18T23:04:13.453Z"
   },
   {
    "duration": 5,
    "start_time": "2024-10-18T23:04:14.118Z"
   },
   {
    "duration": 7,
    "start_time": "2024-10-18T23:04:14.125Z"
   },
   {
    "duration": 8,
    "start_time": "2024-10-18T23:04:14.134Z"
   },
   {
    "duration": 10,
    "start_time": "2024-10-18T23:04:14.144Z"
   },
   {
    "duration": 13,
    "start_time": "2024-10-18T23:04:14.156Z"
   },
   {
    "duration": 2,
    "start_time": "2024-10-18T23:04:14.171Z"
   },
   {
    "duration": 9,
    "start_time": "2024-10-18T23:04:14.175Z"
   },
   {
    "duration": 3,
    "start_time": "2024-10-18T23:04:14.186Z"
   },
   {
    "duration": 12,
    "start_time": "2024-10-18T23:04:14.191Z"
   },
   {
    "duration": 10,
    "start_time": "2024-10-18T23:04:14.244Z"
   },
   {
    "duration": 5,
    "start_time": "2024-10-18T23:04:14.255Z"
   },
   {
    "duration": 6,
    "start_time": "2024-10-18T23:04:14.264Z"
   },
   {
    "duration": 4,
    "start_time": "2024-10-18T23:04:14.272Z"
   },
   {
    "duration": 27,
    "start_time": "2024-10-18T23:04:14.278Z"
   },
   {
    "duration": 62,
    "start_time": "2024-10-18T23:04:14.308Z"
   },
   {
    "duration": 6,
    "start_time": "2024-10-18T23:04:14.373Z"
   },
   {
    "duration": 6,
    "start_time": "2024-10-18T23:04:14.381Z"
   },
   {
    "duration": 749,
    "start_time": "2024-10-18T23:04:14.389Z"
   },
   {
    "duration": 6,
    "start_time": "2024-10-18T23:04:15.143Z"
   },
   {
    "duration": 107,
    "start_time": "2024-10-18T23:04:15.151Z"
   },
   {
    "duration": 4,
    "start_time": "2024-10-18T23:04:15.260Z"
   },
   {
    "duration": 12,
    "start_time": "2024-10-18T23:04:15.266Z"
   },
   {
    "duration": 5,
    "start_time": "2024-10-18T23:04:15.280Z"
   },
   {
    "duration": 5,
    "start_time": "2024-10-18T23:04:15.287Z"
   },
   {
    "duration": 7,
    "start_time": "2024-10-18T23:04:15.294Z"
   },
   {
    "duration": 43,
    "start_time": "2024-10-18T23:04:15.302Z"
   },
   {
    "duration": 5,
    "start_time": "2024-10-18T23:04:15.347Z"
   },
   {
    "duration": 4,
    "start_time": "2024-10-18T23:04:15.353Z"
   },
   {
    "duration": 10,
    "start_time": "2024-10-18T23:04:15.358Z"
   },
   {
    "duration": 8,
    "start_time": "2024-10-18T23:04:15.370Z"
   },
   {
    "duration": 28,
    "start_time": "2024-10-18T23:04:15.380Z"
   },
   {
    "duration": 12,
    "start_time": "2024-10-18T23:04:15.443Z"
   },
   {
    "duration": 272,
    "start_time": "2024-10-18T23:04:15.457Z"
   },
   {
    "duration": 462,
    "start_time": "2024-10-18T23:04:15.731Z"
   },
   {
    "duration": 0,
    "start_time": "2024-10-18T23:04:16.196Z"
   },
   {
    "duration": 0,
    "start_time": "2024-10-18T23:04:16.197Z"
   },
   {
    "duration": 0,
    "start_time": "2024-10-18T23:04:16.198Z"
   },
   {
    "duration": 0,
    "start_time": "2024-10-18T23:04:16.199Z"
   },
   {
    "duration": 0,
    "start_time": "2024-10-18T23:04:16.200Z"
   },
   {
    "duration": 0,
    "start_time": "2024-10-18T23:04:16.201Z"
   },
   {
    "duration": 0,
    "start_time": "2024-10-18T23:04:16.202Z"
   },
   {
    "duration": 0,
    "start_time": "2024-10-18T23:04:16.203Z"
   },
   {
    "duration": 0,
    "start_time": "2024-10-18T23:04:16.204Z"
   },
   {
    "duration": 0,
    "start_time": "2024-10-18T23:04:16.205Z"
   },
   {
    "duration": 0,
    "start_time": "2024-10-18T23:04:16.206Z"
   },
   {
    "duration": 0,
    "start_time": "2024-10-18T23:04:16.207Z"
   },
   {
    "duration": 0,
    "start_time": "2024-10-18T23:04:16.208Z"
   },
   {
    "duration": 0,
    "start_time": "2024-10-18T23:04:16.209Z"
   },
   {
    "duration": 1,
    "start_time": "2024-10-18T23:04:16.210Z"
   },
   {
    "duration": 0,
    "start_time": "2024-10-18T23:04:16.212Z"
   },
   {
    "duration": 0,
    "start_time": "2024-10-18T23:04:16.215Z"
   },
   {
    "duration": 0,
    "start_time": "2024-10-18T23:04:16.243Z"
   },
   {
    "duration": 0,
    "start_time": "2024-10-18T23:04:16.244Z"
   },
   {
    "duration": 0,
    "start_time": "2024-10-18T23:04:16.245Z"
   },
   {
    "duration": 0,
    "start_time": "2024-10-18T23:04:16.246Z"
   },
   {
    "duration": 48,
    "start_time": "2024-10-18T23:10:22.017Z"
   },
   {
    "duration": 780,
    "start_time": "2024-10-18T23:12:40.271Z"
   },
   {
    "duration": 783,
    "start_time": "2024-10-18T23:12:41.054Z"
   },
   {
    "duration": 5,
    "start_time": "2024-10-18T23:12:41.839Z"
   },
   {
    "duration": 7,
    "start_time": "2024-10-18T23:12:41.845Z"
   },
   {
    "duration": 12,
    "start_time": "2024-10-18T23:12:41.854Z"
   },
   {
    "duration": 10,
    "start_time": "2024-10-18T23:12:41.868Z"
   },
   {
    "duration": 12,
    "start_time": "2024-10-18T23:12:41.881Z"
   },
   {
    "duration": 3,
    "start_time": "2024-10-18T23:12:41.894Z"
   },
   {
    "duration": 10,
    "start_time": "2024-10-18T23:12:41.898Z"
   },
   {
    "duration": 34,
    "start_time": "2024-10-18T23:12:41.909Z"
   },
   {
    "duration": 12,
    "start_time": "2024-10-18T23:12:41.945Z"
   },
   {
    "duration": 8,
    "start_time": "2024-10-18T23:12:41.959Z"
   },
   {
    "duration": 5,
    "start_time": "2024-10-18T23:12:41.968Z"
   },
   {
    "duration": 6,
    "start_time": "2024-10-18T23:12:41.976Z"
   },
   {
    "duration": 4,
    "start_time": "2024-10-18T23:12:41.984Z"
   },
   {
    "duration": 63,
    "start_time": "2024-10-18T23:12:41.990Z"
   },
   {
    "duration": 29,
    "start_time": "2024-10-18T23:12:42.055Z"
   },
   {
    "duration": 5,
    "start_time": "2024-10-18T23:12:42.085Z"
   },
   {
    "duration": 6,
    "start_time": "2024-10-18T23:12:42.092Z"
   },
   {
    "duration": 745,
    "start_time": "2024-10-18T23:12:42.099Z"
   },
   {
    "duration": 6,
    "start_time": "2024-10-18T23:12:42.846Z"
   },
   {
    "duration": 98,
    "start_time": "2024-10-18T23:12:42.853Z"
   },
   {
    "duration": 4,
    "start_time": "2024-10-18T23:12:42.954Z"
   },
   {
    "duration": 26,
    "start_time": "2024-10-18T23:12:42.961Z"
   },
   {
    "duration": 4,
    "start_time": "2024-10-18T23:12:42.989Z"
   },
   {
    "duration": 5,
    "start_time": "2024-10-18T23:12:42.995Z"
   },
   {
    "duration": 8,
    "start_time": "2024-10-18T23:12:43.002Z"
   },
   {
    "duration": 7,
    "start_time": "2024-10-18T23:12:43.011Z"
   },
   {
    "duration": 5,
    "start_time": "2024-10-18T23:12:43.042Z"
   },
   {
    "duration": 4,
    "start_time": "2024-10-18T23:12:43.048Z"
   },
   {
    "duration": 13,
    "start_time": "2024-10-18T23:12:43.054Z"
   },
   {
    "duration": 7,
    "start_time": "2024-10-18T23:12:43.069Z"
   },
   {
    "duration": 69,
    "start_time": "2024-10-18T23:12:43.078Z"
   },
   {
    "duration": 11,
    "start_time": "2024-10-18T23:12:43.148Z"
   },
   {
    "duration": 271,
    "start_time": "2024-10-18T23:12:43.161Z"
   },
   {
    "duration": 50,
    "start_time": "2024-10-18T23:12:43.434Z"
   },
   {
    "duration": 59,
    "start_time": "2024-10-18T23:12:43.486Z"
   },
   {
    "duration": 137,
    "start_time": "2024-10-18T23:12:43.546Z"
   },
   {
    "duration": 425,
    "start_time": "2024-10-18T23:12:43.684Z"
   },
   {
    "duration": 0,
    "start_time": "2024-10-18T23:12:44.111Z"
   },
   {
    "duration": 0,
    "start_time": "2024-10-18T23:12:44.112Z"
   },
   {
    "duration": 0,
    "start_time": "2024-10-18T23:12:44.113Z"
   },
   {
    "duration": 0,
    "start_time": "2024-10-18T23:12:44.116Z"
   },
   {
    "duration": 0,
    "start_time": "2024-10-18T23:12:44.117Z"
   },
   {
    "duration": 0,
    "start_time": "2024-10-18T23:12:44.119Z"
   },
   {
    "duration": 0,
    "start_time": "2024-10-18T23:12:44.120Z"
   },
   {
    "duration": 0,
    "start_time": "2024-10-18T23:12:44.122Z"
   },
   {
    "duration": 0,
    "start_time": "2024-10-18T23:12:44.142Z"
   },
   {
    "duration": 0,
    "start_time": "2024-10-18T23:12:44.143Z"
   },
   {
    "duration": 0,
    "start_time": "2024-10-18T23:12:44.144Z"
   },
   {
    "duration": 0,
    "start_time": "2024-10-18T23:12:44.145Z"
   },
   {
    "duration": 0,
    "start_time": "2024-10-18T23:12:44.146Z"
   },
   {
    "duration": 0,
    "start_time": "2024-10-18T23:12:44.148Z"
   },
   {
    "duration": 0,
    "start_time": "2024-10-18T23:12:44.149Z"
   },
   {
    "duration": 0,
    "start_time": "2024-10-18T23:12:44.150Z"
   },
   {
    "duration": 0,
    "start_time": "2024-10-18T23:12:44.151Z"
   },
   {
    "duration": 46,
    "start_time": "2024-10-18T23:14:34.895Z"
   },
   {
    "duration": 48,
    "start_time": "2024-10-18T23:14:53.649Z"
   },
   {
    "duration": 7,
    "start_time": "2024-10-18T23:19:38.516Z"
   },
   {
    "duration": 119,
    "start_time": "2024-10-18T23:19:40.527Z"
   },
   {
    "duration": 104,
    "start_time": "2024-10-18T23:19:50.169Z"
   },
   {
    "duration": 128,
    "start_time": "2024-10-18T23:21:30.241Z"
   },
   {
    "duration": 591,
    "start_time": "2024-10-18T23:21:51.015Z"
   },
   {
    "duration": 216,
    "start_time": "2024-10-18T23:23:45.140Z"
   },
   {
    "duration": 6,
    "start_time": "2024-10-18T23:23:57.551Z"
   },
   {
    "duration": 103,
    "start_time": "2024-10-18T23:27:43.078Z"
   },
   {
    "duration": 45470,
    "start_time": "2024-10-18T23:31:00.433Z"
   },
   {
    "duration": 3,
    "start_time": "2024-10-18T23:40:48.804Z"
   },
   {
    "duration": 24,
    "start_time": "2024-10-18T23:45:28.916Z"
   },
   {
    "duration": 287,
    "start_time": "2024-10-18T23:48:11.934Z"
   },
   {
    "duration": 280,
    "start_time": "2024-10-18T23:48:30.105Z"
   },
   {
    "duration": 284,
    "start_time": "2024-10-18T23:48:45.411Z"
   },
   {
    "duration": 319,
    "start_time": "2024-10-18T23:49:16.606Z"
   },
   {
    "duration": 319,
    "start_time": "2024-10-18T23:52:17.069Z"
   },
   {
    "duration": 2,
    "start_time": "2024-10-18T23:55:28.066Z"
   },
   {
    "duration": 5,
    "start_time": "2024-10-18T23:56:04.559Z"
   },
   {
    "duration": 10,
    "start_time": "2024-10-18T23:56:29.825Z"
   },
   {
    "duration": 16,
    "start_time": "2024-10-18T23:56:31.708Z"
   },
   {
    "duration": 16,
    "start_time": "2024-10-18T23:57:58.402Z"
   },
   {
    "duration": 10,
    "start_time": "2024-10-18T23:58:05.694Z"
   },
   {
    "duration": 16,
    "start_time": "2024-10-18T23:58:07.787Z"
   },
   {
    "duration": 36,
    "start_time": "2024-10-18T23:59:50.982Z"
   },
   {
    "duration": 10,
    "start_time": "2024-10-19T00:02:08.275Z"
   },
   {
    "duration": 10,
    "start_time": "2024-10-19T00:02:20.974Z"
   },
   {
    "duration": 27,
    "start_time": "2024-10-19T00:02:24.123Z"
   },
   {
    "duration": 2081,
    "start_time": "2024-10-19T00:02:44.511Z"
   },
   {
    "duration": 898,
    "start_time": "2024-10-21T15:13:41.742Z"
   },
   {
    "duration": 793,
    "start_time": "2024-10-21T15:14:21.716Z"
   },
   {
    "duration": 677,
    "start_time": "2024-10-21T15:14:22.512Z"
   },
   {
    "duration": 7,
    "start_time": "2024-10-21T15:14:23.191Z"
   },
   {
    "duration": 6,
    "start_time": "2024-10-21T15:14:23.199Z"
   },
   {
    "duration": 8,
    "start_time": "2024-10-21T15:14:23.208Z"
   },
   {
    "duration": 9,
    "start_time": "2024-10-21T15:14:23.218Z"
   },
   {
    "duration": 12,
    "start_time": "2024-10-21T15:14:23.228Z"
   },
   {
    "duration": 3,
    "start_time": "2024-10-21T15:14:23.242Z"
   },
   {
    "duration": 9,
    "start_time": "2024-10-21T15:14:23.246Z"
   },
   {
    "duration": 3,
    "start_time": "2024-10-21T15:14:23.256Z"
   },
   {
    "duration": 45,
    "start_time": "2024-10-21T15:14:23.261Z"
   },
   {
    "duration": 9,
    "start_time": "2024-10-21T15:14:23.308Z"
   },
   {
    "duration": 4,
    "start_time": "2024-10-21T15:14:23.319Z"
   },
   {
    "duration": 6,
    "start_time": "2024-10-21T15:14:23.327Z"
   },
   {
    "duration": 5,
    "start_time": "2024-10-21T15:14:23.334Z"
   },
   {
    "duration": 27,
    "start_time": "2024-10-21T15:14:23.341Z"
   },
   {
    "duration": 64,
    "start_time": "2024-10-21T15:14:23.369Z"
   },
   {
    "duration": 5,
    "start_time": "2024-10-21T15:14:23.435Z"
   },
   {
    "duration": 7,
    "start_time": "2024-10-21T15:14:23.441Z"
   },
   {
    "duration": 2419,
    "start_time": "2024-10-21T15:14:23.449Z"
   },
   {
    "duration": 6,
    "start_time": "2024-10-21T15:14:25.870Z"
   },
   {
    "duration": 94,
    "start_time": "2024-10-21T15:14:25.879Z"
   },
   {
    "duration": 3,
    "start_time": "2024-10-21T15:14:25.975Z"
   },
   {
    "duration": 25,
    "start_time": "2024-10-21T15:14:25.980Z"
   },
   {
    "duration": 5,
    "start_time": "2024-10-21T15:14:26.007Z"
   },
   {
    "duration": 5,
    "start_time": "2024-10-21T15:14:26.014Z"
   },
   {
    "duration": 7,
    "start_time": "2024-10-21T15:14:26.021Z"
   },
   {
    "duration": 7,
    "start_time": "2024-10-21T15:14:26.029Z"
   },
   {
    "duration": 3,
    "start_time": "2024-10-21T15:14:26.037Z"
   },
   {
    "duration": 4,
    "start_time": "2024-10-21T15:14:26.042Z"
   },
   {
    "duration": 8,
    "start_time": "2024-10-21T15:14:26.048Z"
   },
   {
    "duration": 51,
    "start_time": "2024-10-21T15:14:26.058Z"
   },
   {
    "duration": 30,
    "start_time": "2024-10-21T15:14:26.110Z"
   },
   {
    "duration": 63,
    "start_time": "2024-10-21T15:14:26.142Z"
   },
   {
    "duration": 231,
    "start_time": "2024-10-21T15:14:26.207Z"
   },
   {
    "duration": 70,
    "start_time": "2024-10-21T15:14:26.440Z"
   },
   {
    "duration": 140,
    "start_time": "2024-10-21T15:14:26.515Z"
   },
   {
    "duration": 260,
    "start_time": "2024-10-21T15:14:26.660Z"
   },
   {
    "duration": 7,
    "start_time": "2024-10-21T15:14:26.922Z"
   },
   {
    "duration": 128,
    "start_time": "2024-10-21T15:14:26.930Z"
   },
   {
    "duration": 107,
    "start_time": "2024-10-21T15:14:27.063Z"
   },
   {
    "duration": 1249,
    "start_time": "2024-10-21T15:14:27.172Z"
   },
   {
    "duration": 122,
    "start_time": "2024-10-21T15:14:28.423Z"
   },
   {
    "duration": 49,
    "start_time": "2024-10-21T15:14:28.546Z"
   },
   {
    "duration": 28,
    "start_time": "2024-10-21T15:14:28.606Z"
   },
   {
    "duration": 9,
    "start_time": "2024-10-21T15:14:28.636Z"
   },
   {
    "duration": 117,
    "start_time": "2024-10-21T15:14:28.646Z"
   },
   {
    "duration": 14,
    "start_time": "2024-10-21T15:14:28.764Z"
   },
   {
    "duration": 2060,
    "start_time": "2024-10-21T15:14:28.779Z"
   },
   {
    "duration": 295,
    "start_time": "2024-10-21T15:14:30.841Z"
   },
   {
    "duration": 0,
    "start_time": "2024-10-21T15:14:31.138Z"
   },
   {
    "duration": 0,
    "start_time": "2024-10-21T15:14:31.139Z"
   },
   {
    "duration": 2043,
    "start_time": "2024-10-21T15:28:39.213Z"
   },
   {
    "duration": 11,
    "start_time": "2024-10-21T15:28:50.553Z"
   },
   {
    "duration": 2065,
    "start_time": "2024-10-21T15:28:53.629Z"
   },
   {
    "duration": 2081,
    "start_time": "2024-10-21T15:29:02.407Z"
   },
   {
    "duration": 5,
    "start_time": "2024-10-21T15:29:16.951Z"
   },
   {
    "duration": 2075,
    "start_time": "2024-10-21T15:29:42.024Z"
   },
   {
    "duration": 5,
    "start_time": "2024-10-21T15:29:44.101Z"
   },
   {
    "duration": 2,
    "start_time": "2024-10-21T15:32:01.718Z"
   },
   {
    "duration": 16,
    "start_time": "2024-10-21T15:32:47.470Z"
   },
   {
    "duration": 15,
    "start_time": "2024-10-21T15:32:52.249Z"
   },
   {
    "duration": 144,
    "start_time": "2024-10-21T15:33:01.726Z"
   },
   {
    "duration": 2,
    "start_time": "2024-10-21T15:34:07.871Z"
   },
   {
    "duration": 17,
    "start_time": "2024-10-21T15:34:27.223Z"
   },
   {
    "duration": 31,
    "start_time": "2024-10-21T15:34:47.478Z"
   },
   {
    "duration": 46,
    "start_time": "2024-10-21T15:34:55.979Z"
   },
   {
    "duration": 34,
    "start_time": "2024-10-21T15:35:09.667Z"
   },
   {
    "duration": 34,
    "start_time": "2024-10-21T15:35:37.946Z"
   },
   {
    "duration": 5,
    "start_time": "2024-10-21T15:41:28.402Z"
   },
   {
    "duration": 16,
    "start_time": "2024-10-21T15:48:13.114Z"
   },
   {
    "duration": 10,
    "start_time": "2024-10-21T15:48:57.355Z"
   },
   {
    "duration": 2049,
    "start_time": "2024-10-21T15:48:59.122Z"
   },
   {
    "duration": 4,
    "start_time": "2024-10-21T15:49:03.935Z"
   },
   {
    "duration": 5,
    "start_time": "2024-10-21T15:49:06.603Z"
   },
   {
    "duration": 16,
    "start_time": "2024-10-21T15:49:08.689Z"
   },
   {
    "duration": 2,
    "start_time": "2024-10-21T15:51:04.120Z"
   },
   {
    "duration": 247,
    "start_time": "2024-10-21T15:51:26.902Z"
   },
   {
    "duration": 40,
    "start_time": "2024-10-21T15:51:28.647Z"
   },
   {
    "duration": 123,
    "start_time": "2024-10-21T15:52:56.015Z"
   },
   {
    "duration": 103,
    "start_time": "2024-10-21T15:53:09.285Z"
   },
   {
    "duration": 122,
    "start_time": "2024-10-21T15:56:26.307Z"
   },
   {
    "duration": 7,
    "start_time": "2024-10-21T15:56:45.667Z"
   },
   {
    "duration": 120,
    "start_time": "2024-10-21T15:56:55.313Z"
   },
   {
    "duration": 46,
    "start_time": "2024-10-21T16:07:59.596Z"
   },
   {
    "duration": 8,
    "start_time": "2024-10-21T16:51:15.290Z"
   }
  ],
  "kernelspec": {
   "display_name": "Python 3 (ipykernel)",
   "language": "python",
   "name": "python3"
  },
  "language_info": {
   "codemirror_mode": {
    "name": "ipython",
    "version": 3
   },
   "file_extension": ".py",
   "mimetype": "text/x-python",
   "name": "python",
   "nbconvert_exporter": "python",
   "pygments_lexer": "ipython3",
   "version": "3.11.8"
  },
  "toc": {
   "base_numbering": 1,
   "nav_menu": {
    "height": "99px",
    "width": "405px"
   },
   "number_sections": true,
   "sideBar": true,
   "skip_h1_title": false,
   "title_cell": "Table of Contents",
   "title_sidebar": "Contents",
   "toc_cell": false,
   "toc_position": {
    "height": "calc(100% - 180px)",
    "left": "10px",
    "top": "150px",
    "width": "218.992px"
   },
   "toc_section_display": true,
   "toc_window_display": true
  }
 },
 "nbformat": 4,
 "nbformat_minor": 5
}
